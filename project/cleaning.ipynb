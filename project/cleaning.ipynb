{
 "cells": [
  {
   "cell_type": "code",
   "execution_count": 9,
   "metadata": {
    "collapsed": true
   },
   "outputs": [],
   "source": [
    "import pandas as pd\n",
    "import time"
   ]
  },
  {
   "cell_type": "code",
   "execution_count": 21,
   "metadata": {},
   "outputs": [],
   "source": []
  },
  {
   "cell_type": "code",
   "execution_count": 22,
   "metadata": {},
   "outputs": [
    {
     "name": "stdout",
     "output_type": "stream",
     "text": [
      "20\n"
     ]
    }
   ],
   "source": [
    "print(len(file.readline().split('\\t')))"
   ]
  },
  {
   "cell_type": "code",
   "execution_count": 36,
   "metadata": {},
   "outputs": [
    {
     "name": "stdout",
     "output_type": "stream",
     "text": [
      "20213917\n",
      "20212854\n",
      "1063\n",
      "113.50666522979736\n"
     ]
    }
   ],
   "source": [
    "file = open(\"twitter_full.tsv\", encoding=\"utf8\")\n",
    "data = file.readline()\n",
    "i = 0\n",
    "j = 0\n",
    "t = time.time()\n",
    "d = list()\n",
    "while not data == \"\":\n",
    "    j+=1\n",
    "    l = len(data.split('\\t'))\n",
    "    while l < 20:\n",
    "        data += file.readline()\n",
    "        l = len(data.split('\\t'))\n",
    "    if l == 20:\n",
    "        d.append(data)\n",
    "    data = file.readline()\n",
    "\n",
    "    \n",
    "\n",
    "print(j)\n",
    "print(len(d))\n",
    "print(j-len(d))\n",
    "print(time.time()-t)\n",
    "file.close()"
   ]
  },
  {
   "cell_type": "code",
   "execution_count": null,
   "metadata": {
    "collapsed": true
   },
   "outputs": [],
   "source": []
  }
 ],
 "metadata": {
  "kernelspec": {
   "display_name": "Python 3",
   "language": "python",
   "name": "python3"
  },
  "language_info": {
   "codemirror_mode": {
    "name": "ipython",
    "version": 3
   },
   "file_extension": ".py",
   "mimetype": "text/x-python",
   "name": "python",
   "nbconvert_exporter": "python",
   "pygments_lexer": "ipython3",
   "version": "3.6.3"
  }
 },
 "nbformat": 4,
 "nbformat_minor": 2
}

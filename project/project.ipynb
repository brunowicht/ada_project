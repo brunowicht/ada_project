{
 "cells": [
  {
   "cell_type": "code",
   "execution_count": 119,
   "metadata": {},
   "outputs": [],
   "source": [
    "import pandas as pd\n",
    "import time\n",
    "from datetime import date, timedelta\n",
    "import numpy as np\n",
    "import re\n",
    "import json\n",
    "import matplotlib.pyplot as plt\n",
    "import csv \n",
    "from helper import * # File containig some helper functions\n",
    "import os\n",
    "import folium\n",
    "import branca.colormap as cm\n",
    "from folium.plugins import MarkerCluster\n",
    "from folium import plugins\n",
    "import ast\n",
    "import math"
   ]
  },
  {
   "cell_type": "markdown",
   "metadata": {},
   "source": [
    "# [Link to interactive visualisation](https://nbviewer.jupyter.org/github/brunowicht/ada_project/blob/master/project/project.ipynb)"
   ]
  },
  {
   "cell_type": "markdown",
   "metadata": {},
   "source": [
    "# 0. Understanding the dataset\n",
    "\n",
    "Before starting any kind of data analysis, we first have to review the content of our dataset and understand its meaning better. To do this, we use the data sample and the schema provided with the dataset.\n",
    "\n",
    "## 0.1. Dataset structure\n",
    "Let us first read the `schema.txt` file to understand what fields our dataset contains."
   ]
  },
  {
   "cell_type": "code",
   "execution_count": null,
   "metadata": {},
   "outputs": [],
   "source": [
    "schema = pd.read_table('twitter-swisscom/schema.txt', delimiter='    ', engine='python',\n",
    "                       names=['Field name', 'Type', 'Specification', 'Unsigned', 'Optional field', 'Format'] )\n",
    "schema"
   ]
  },
  {
   "cell_type": "markdown",
   "metadata": {},
   "source": [
    "The `schema.txt` contains information about each field in our dataset. We see that there are 20 possible fields for a tweet, but many of them are optional, so most tweets probably haver fewer specified field than that.\n",
    "\n",
    "Here are the fields that will be the most useful:\n",
    "- userId: to know who posted the tweet\n",
    "- createdAt: to know when the tweet was posted\n",
    "- text: content of the tweet\n",
    "- longitude and latitude: to know from where the tweet was posted\n",
    "\n",
    "\n",
    "## 0.2. Dataset contents\n",
    "Now, let us have a look at the actual content of our dataset using the provided sample."
   ]
  },
  {
   "cell_type": "code",
   "execution_count": null,
   "metadata": {
    "scrolled": true
   },
   "outputs": [],
   "source": [
    "sample_df = pd.read_csv('twitter-swisscom/sample.tsv', encoding='utf-8', sep='\\t', escapechar='\\\\', \n",
    "                        index_col='id', names=schema['Field name'], quoting=csv.QUOTE_NONE, na_values='N')\n",
    "sample_df.head()"
   ]
  },
  {
   "cell_type": "markdown",
   "metadata": {},
   "source": [
    "Let us check the percentage of `NaN` values for each field."
   ]
  },
  {
   "cell_type": "code",
   "execution_count": null,
   "metadata": {},
   "outputs": [],
   "source": [
    "sample_df.isnull().sum().apply(lambda s: '{0:.2f} %'.format(100*s/sample_df.shape[0]))"
   ]
  },
  {
   "cell_type": "markdown",
   "metadata": {},
   "source": [
    "We can observe that the `latitude` and `longitude` are quite often `NaN`, whereas the `placeLatitude`and `placeLongitude` fields are always specified. Therefore, we will use the latter fields.\n",
    "\n",
    "Let us visualize the geographical distribution of the tweets in the sample dataset."
   ]
  },
  {
   "cell_type": "code",
   "execution_count": null,
   "metadata": {},
   "outputs": [],
   "source": [
    "swiss_coord = [46.8, 8.2]\n",
    "swiss_map = folium.Map(swiss_coord, zoom_start=8)\n",
    "add_markers_to_map_(sample_df.rename(columns={\"placeLongitude\": \"Latitude\", \"placeLatitude\": \"Longitude\"}), swiss_map, False)"
   ]
  },
  {
   "cell_type": "code",
   "execution_count": null,
   "metadata": {},
   "outputs": [],
   "source": [
    "swiss_map"
   ]
  },
  {
   "cell_type": "markdown",
   "metadata": {},
   "source": [
    "# 1. Data cleaning and pre-processing"
   ]
  },
  {
   "cell_type": "code",
   "execution_count": null,
   "metadata": {},
   "outputs": [],
   "source": [
    "#All the columns in the original dataset\n",
    "col = ['id', 'userId', 'createdAt', 'text', 'long', 'lat', 'placeId', 'inReplyTo', 'source', 'truncated', 'Longitude',\\\n",
    "       'Latitude', 'sourceName', 'sourceUrl', 'username', 'screenName', 'followerscount', 'friendscount', 'statusescount',\\\n",
    "       'userLocation']\n",
    "\n",
    "#Columns we keep before any computation\n",
    "keep_col = ['id', 'userId', 'createdAt', 'text', 'Longitude', 'Latitude', 'username']\n",
    "\n",
    "#Columns we have after tag and identification filtering\n",
    "keep_final = ['id', 'userId', 'createdAt', 'Longitude', 'Latitude', 'username', 'tag', 'at']\n"
   ]
  },
  {
   "cell_type": "markdown",
   "metadata": {},
   "source": [
    "Here we have the script for reading the whole dataset, filter the tags and identification in the text and store everything in a dataframe.  \n",
    "The function `add_lines_in_df(lines, dataframe)` takes a list of tweets, compute the hashtags (all the hashtags have been lowercased because uppercase does not add any information) and indentifications, filter the columns and add it to a building dataframe. We are doing the dataframe construction part by part because it was too heavy to do it all at once.  \n",
    "The tricky part of this method with `readline()` is that if a tweet contains a \\n character, this means that this is the end of the tweet tuple and the next part of the true tweet tuple will be seen as a new tweet tuple. So we need to check that every tweet tuple contains 20 element, and if not we concatenate the next line read to it until there is at least 20 element in the tuple."
   ]
  },
  {
   "cell_type": "code",
   "execution_count": null,
   "metadata": {
    "scrolled": true
   },
   "outputs": [],
   "source": [
    "file = open(\"../../twitter_dataset/twitter_full.tsv\", encoding=\"utf8\")\n",
    "data = file.readline()\n",
    "#j is just to keep track where we stand in the reading of the file\n",
    "j = 0\n",
    "data_list = list()\n",
    "df = None\n",
    "while not data == \"\":\n",
    "    j+=1\n",
    "    l = len(data.split('\\t'))\n",
    "    #check that a tweet tuple is at least 20 element, if not concatenate next line read.\n",
    "    while l < 20:\n",
    "        data += file.readline()\n",
    "        l = len(data.split('\\t'))\n",
    "    #only tuples of 20 element are valid\n",
    "    if l == 20:\n",
    "        data_list.append(data.split('\\t'))\n",
    "    #every 50000 tuples, add them to the building dataframe and empty the list to not cause memory overflow\n",
    "    if j%50000 == 0:\n",
    "        #print is just to inform where we are in the file\n",
    "        print(str(j/20212854.0), end='\\r')\n",
    "        df = add_lines_in_df(data_list, df)\n",
    "        data_list = list()\n",
    "    \n",
    "    data = file.readline()\n",
    "    #if no more data, add the list to the dataframe and go out of the loop\n",
    "    if data == \"\":\n",
    "        print(str(j/20212854.0))\n",
    "        df = add_lines_in_df(data_list, df)\n",
    "        data_list = list()\n",
    "    \n",
    "\n",
    "file.close()"
   ]
  },
  {
   "cell_type": "markdown",
   "metadata": {},
   "source": [
    "To be able to easily group by day, month or year, we decided to add those three columns to our dataframe, so we can drop the createdAt column which contains also the time (with second precision) of the tweet post, but we will not need it. We still need to set the tweet id as the unique index of tweets to be able to retreive some information in the original dataset if needed."
   ]
  },
  {
   "cell_type": "code",
   "execution_count": null,
   "metadata": {},
   "outputs": [],
   "source": [
    "df['day'] = df.createdAt.apply(lambda x : x[:10])\n",
    "df['month'] = df.createdAt.apply(lambda x : x[:7])\n",
    "df['year'] = df.createdAt.apply(lambda x : x[:4])\n",
    "df = df.drop(['createdAt'],axis=1)\n",
    "df = df.set_index('id')"
   ]
  },
  {
   "cell_type": "markdown",
   "metadata": {},
   "source": [
    "We can then store the resulting dataframe in a new csv file which is around 3 times smaller than the original one. We can then filter tweet that contains at least one hashtag and thos which contains at least one identification to create subdataset as we want to work with hashtags and identifications."
   ]
  },
  {
   "cell_type": "code",
   "execution_count": null,
   "metadata": {},
   "outputs": [],
   "source": [
    "df.to_csv('../../twitter_dataset/cleaned.csv', sep=';', encoding='utf-8')"
   ]
  },
  {
   "cell_type": "code",
   "execution_count": null,
   "metadata": {},
   "outputs": [],
   "source": [
    "df_tag = df[(df[\"tag\"].astype(str) != '[]')]\n",
    "df_tag.to_csv('../../twitter_dataset/cleaned_hashtag.csv', sep=';', encoding='utf-8')"
   ]
  },
  {
   "cell_type": "code",
   "execution_count": null,
   "metadata": {},
   "outputs": [],
   "source": [
    "df_at = df[(df[\"at\"].astype(str) != '[]')]\n",
    "df_at.to_csv('../../twitter_dataset/cleaned_identification.csv', sep=';',encoding='utf-8')"
   ]
  },
  {
   "cell_type": "markdown",
   "metadata": {},
   "source": [
    "# 2. Data Manipulation\n",
    "## 2.1. Grouping by hashtag\n",
    "\n",
    "The first step of our descriptive data analysis is to group all tweets by hashtags. In other words, we want to have a dataframe containing for each hashtag the indices of the tweets in which it appears. This will allow us to count find the most popular hashtags, and later agregate them by time.\n",
    "\n",
    "First, we retrieve our cleaned dataset containing tweets with hashtags by loading it from the file we save in the previous step. This allows us to avoid unnecessary computations."
   ]
  },
  {
   "cell_type": "code",
   "execution_count": 121,
   "metadata": {
    "scrolled": false
   },
   "outputs": [
    {
     "name": "stderr",
     "output_type": "stream",
     "text": [
      "//anaconda/envs/ada/lib/python3.5/site-packages/IPython/core/interactiveshell.py:2728: DtypeWarning: Columns (0,2,3) have mixed types. Specify dtype option on import or set low_memory=False.\n",
      "  interactivity=interactivity, compiler=compiler, result=result)\n"
     ]
    }
   ],
   "source": [
    "df_tag = pd.read_csv(\"../../twitter_dataset/cleaned_hashtag.csv\", sep=';', encoding=\"utf-8\")"
   ]
  },
  {
   "cell_type": "markdown",
   "metadata": {},
   "source": [
    "Then we can implement the main function that will group our data by hashtag as described above.\n",
    "\n",
    "For the sake of clarity, the following functions were moved in the `helper.py` file:\n",
    "- `get_hashtags(text, lowercase=True)` : Returns the list of all hashtags present in the given text.\n",
    "- `get_index_with_hashtag(df, hashtag)` : Returns the indices of the tweets in which the given hashtag appears."
   ]
  },
  {
   "cell_type": "code",
   "execution_count": null,
   "metadata": {},
   "outputs": [],
   "source": [
    "def group_by_hashtag(df):\n",
    "    \"\"\"For each hashtag, give the indices of the tweets in which it appears.\n",
    "    \n",
    "    df: dataframe to use for the grouping\n",
    "    load_hashtags_list: if True, loads the list of different hashtags from a file saved previously.\n",
    "                        if False, computes the hashtag list again.\n",
    "    \"\"\"\n",
    "    \n",
    "    # Get the indices of the tweets in which each hashtag appears\n",
    "    output = {}\n",
    "    for index, item in df.iterrows():\n",
    "        tags = get_hashtags(item.tag, lowercase=False)\n",
    "        for tag in tags:\n",
    "            if(tag in output):\n",
    "                output_tag = output[tag]\n",
    "                output_tag[0].append(index)\n",
    "                output_tag[1].append(item.userId)\n",
    "            else:\n",
    "                output[tag] = [[index], [item.userId]]\n",
    "    \n",
    "    for tag, lists in output.items():\n",
    "        output_tag = output[tag]\n",
    "        output_tag[0] = list(np.unique(np.array(lists[0])))\n",
    "        output_tag[1] = len(np.unique(np.array(lists[1])))\n",
    "    \n",
    "    \n",
    "    \n",
    "    # Convert to dataframe\n",
    "    output_df = pd.DataFrame.from_dict(output, orient='index')\n",
    "    output_df.reset_index(inplace=True)\n",
    "    output_df.columns = ['hashtag', 'tweets_idx', 'nb_unique_authors']\n",
    "    return output_df"
   ]
  },
  {
   "cell_type": "markdown",
   "metadata": {},
   "source": [
    "Then we can actually call this function on our dataset. We store the result in a csv file so that we won't have to compute it again."
   ]
  },
  {
   "cell_type": "code",
   "execution_count": null,
   "metadata": {
    "scrolled": false
   },
   "outputs": [],
   "source": [
    "# Compute the groups by hashtag\n",
    "group_hashtags = group_by_hashtag(df_tag)\n",
    "group_hashtags = group_hashtags.set_index(\"hashtag\")\n",
    "\n",
    "# Save result to csv file\n",
    "group_hashtags.to_csv(\"../../twitter_dataset/hashtag_grouped.csv\", sep=\";\", encoding=\"utf-8\", columns=[\"tweets_idx\", \"nb_unique_authors\"])"
   ]
  },
  {
   "cell_type": "code",
   "execution_count": 120,
   "metadata": {},
   "outputs": [
    {
     "data": {
      "text/html": [
       "<div>\n",
       "<style>\n",
       "    .dataframe thead tr:only-child th {\n",
       "        text-align: right;\n",
       "    }\n",
       "\n",
       "    .dataframe thead th {\n",
       "        text-align: left;\n",
       "    }\n",
       "\n",
       "    .dataframe tbody tr th {\n",
       "        vertical-align: top;\n",
       "    }\n",
       "</style>\n",
       "<table border=\"1\" class=\"dataframe\">\n",
       "  <thead>\n",
       "    <tr style=\"text-align: right;\">\n",
       "      <th></th>\n",
       "      <th>tweets_idx</th>\n",
       "      <th>nb_unique_authors</th>\n",
       "    </tr>\n",
       "    <tr>\n",
       "      <th>hashtag</th>\n",
       "      <th></th>\n",
       "      <th></th>\n",
       "    </tr>\n",
       "  </thead>\n",
       "  <tbody>\n",
       "    <tr>\n",
       "      <th>#instabeautiful</th>\n",
       "      <td>[359953, 961976, 2067053, 2250249, 2250301]</td>\n",
       "      <td>4</td>\n",
       "    </tr>\n",
       "    <tr>\n",
       "      <th>#varrialemaiale</th>\n",
       "      <td>[1003936, 1753632]</td>\n",
       "      <td>2</td>\n",
       "    </tr>\n",
       "    <tr>\n",
       "      <th>#bainschauds</th>\n",
       "      <td>[2273733]</td>\n",
       "      <td>1</td>\n",
       "    </tr>\n",
       "    <tr>\n",
       "      <th>#minho</th>\n",
       "      <td>[2473162, 2524797, 2743672]</td>\n",
       "      <td>2</td>\n",
       "    </tr>\n",
       "    <tr>\n",
       "      <th>#tescheloucommekanyewest</th>\n",
       "      <td>[1145882]</td>\n",
       "      <td>1</td>\n",
       "    </tr>\n",
       "  </tbody>\n",
       "</table>\n",
       "</div>"
      ],
      "text/plain": [
       "                                                           tweets_idx  \\\n",
       "hashtag                                                                 \n",
       "#instabeautiful           [359953, 961976, 2067053, 2250249, 2250301]   \n",
       "#varrialemaiale                                    [1003936, 1753632]   \n",
       "#bainschauds                                                [2273733]   \n",
       "#minho                                    [2473162, 2524797, 2743672]   \n",
       "#tescheloucommekanyewest                                    [1145882]   \n",
       "\n",
       "                          nb_unique_authors  \n",
       "hashtag                                      \n",
       "#instabeautiful                           4  \n",
       "#varrialemaiale                           2  \n",
       "#bainschauds                              1  \n",
       "#minho                                    2  \n",
       "#tescheloucommekanyewest                  1  "
      ]
     },
     "execution_count": 120,
     "metadata": {},
     "output_type": "execute_result"
    }
   ],
   "source": [
    "# Read hashtag groups from file\n",
    "group_hashtags = pd.read_csv(\"../../twitter_dataset/hashtag_grouped.csv\", sep=\";\", index_col=[0], usecols=[0, 1, 2])\n",
    "group_hashtags.tweets_idx = group_hashtags.tweets_idx.apply(lambda s: ast.literal_eval(s))\n",
    "group_hashtags.head()"
   ]
  },
  {
   "cell_type": "markdown",
   "metadata": {},
   "source": [
    "We now have for each hashtag of our dataset the indices of the tweets in which it appears. With that data, we can for example see what hashtags were tweeted the most."
   ]
  },
  {
   "cell_type": "code",
   "execution_count": 4,
   "metadata": {},
   "outputs": [
    {
     "data": {
      "text/html": [
       "<div>\n",
       "<style>\n",
       "    .dataframe thead tr:only-child th {\n",
       "        text-align: right;\n",
       "    }\n",
       "\n",
       "    .dataframe thead th {\n",
       "        text-align: left;\n",
       "    }\n",
       "\n",
       "    .dataframe tbody tr th {\n",
       "        vertical-align: top;\n",
       "    }\n",
       "</style>\n",
       "<table border=\"1\" class=\"dataframe\">\n",
       "  <thead>\n",
       "    <tr style=\"text-align: right;\">\n",
       "      <th></th>\n",
       "      <th>nb_unique_authors</th>\n",
       "      <th>tweets_nb</th>\n",
       "    </tr>\n",
       "    <tr>\n",
       "      <th>hashtag</th>\n",
       "      <th></th>\n",
       "      <th></th>\n",
       "    </tr>\n",
       "  </thead>\n",
       "  <tbody>\n",
       "    <tr>\n",
       "      <th>#switzerland</th>\n",
       "      <td>17347</td>\n",
       "      <td>63364</td>\n",
       "    </tr>\n",
       "    <tr>\n",
       "      <th>#lrt</th>\n",
       "      <td>4692</td>\n",
       "      <td>45596</td>\n",
       "    </tr>\n",
       "    <tr>\n",
       "      <th>#lt</th>\n",
       "      <td>5306</td>\n",
       "      <td>43009</td>\n",
       "    </tr>\n",
       "    <tr>\n",
       "      <th>#newyearrocks</th>\n",
       "      <td>32634</td>\n",
       "      <td>38256</td>\n",
       "    </tr>\n",
       "    <tr>\n",
       "      <th>#job</th>\n",
       "      <td>604</td>\n",
       "      <td>33736</td>\n",
       "    </tr>\n",
       "    <tr>\n",
       "      <th>#christmasrocks</th>\n",
       "      <td>27426</td>\n",
       "      <td>32530</td>\n",
       "    </tr>\n",
       "    <tr>\n",
       "      <th>#zurich</th>\n",
       "      <td>7621</td>\n",
       "      <td>28660</td>\n",
       "    </tr>\n",
       "    <tr>\n",
       "      <th>#np</th>\n",
       "      <td>3244</td>\n",
       "      <td>28003</td>\n",
       "    </tr>\n",
       "    <tr>\n",
       "      <th>#geneva</th>\n",
       "      <td>5783</td>\n",
       "      <td>26907</td>\n",
       "    </tr>\n",
       "    <tr>\n",
       "      <th>#controleurs</th>\n",
       "      <td>4</td>\n",
       "      <td>25353</td>\n",
       "    </tr>\n",
       "  </tbody>\n",
       "</table>\n",
       "</div>"
      ],
      "text/plain": [
       "                 nb_unique_authors  tweets_nb\n",
       "hashtag                                      \n",
       "#switzerland                 17347      63364\n",
       "#lrt                          4692      45596\n",
       "#lt                           5306      43009\n",
       "#newyearrocks                32634      38256\n",
       "#job                           604      33736\n",
       "#christmasrocks              27426      32530\n",
       "#zurich                       7621      28660\n",
       "#np                           3244      28003\n",
       "#geneva                       5783      26907\n",
       "#controleurs                     4      25353"
      ]
     },
     "execution_count": 4,
     "metadata": {},
     "output_type": "execute_result"
    }
   ],
   "source": [
    "group_hashtags_nb = group_hashtags.copy()\n",
    "\n",
    "# Get the occurence of each hashtag\n",
    "group_hashtags_nb['tweets_nb'] = group_hashtags_nb['tweets_idx'].apply(lambda ls: len(ls))\n",
    "\n",
    "# Get the 1510most popular hashtags\n",
    "group_hashtags_nb.sort_values('tweets_nb', ascending=False).drop(['tweets_idx'], axis=1).head(10)"
   ]
  },
  {
   "cell_type": "markdown",
   "metadata": {},
   "source": [
    "# 3. Data Analysis and Visualization"
   ]
  },
  {
   "cell_type": "markdown",
   "metadata": {},
   "source": [
    "## 3.1. Visualizing hashtag frequency\n",
    "We want to be able to determine if a certain hashtag has a spike of popularity at a certain time. To do that, we visualize the number of tweets containing a given hashtag per unit of time (day, month, or year)\n",
    "\n",
    "For the sake of clarity, the following functions were moved in the `helper.py` file:\n",
    "- `search_hashtag(hashtag, df)` : Filter the given dataset to keep only elements that contain the given hashtag.\n",
    "- `plot_frequency_tags(df, col, hashtag, n)` : Display a bar plot of the number of tweets with the given hashtag per unit of time given in 'col' (day, month or year) .\n",
    "\n",
    "For example, let us take a look at the tweets with the hashtag '#jesuischarlie'."
   ]
  },
  {
   "cell_type": "code",
   "execution_count": 5,
   "metadata": {
    "scrolled": true
   },
   "outputs": [
    {
     "data": {
      "text/html": [
       "<div>\n",
       "<style>\n",
       "    .dataframe thead tr:only-child th {\n",
       "        text-align: right;\n",
       "    }\n",
       "\n",
       "    .dataframe thead th {\n",
       "        text-align: left;\n",
       "    }\n",
       "\n",
       "    .dataframe tbody tr th {\n",
       "        vertical-align: top;\n",
       "    }\n",
       "</style>\n",
       "<table border=\"1\" class=\"dataframe\">\n",
       "  <thead>\n",
       "    <tr style=\"text-align: right;\">\n",
       "      <th></th>\n",
       "      <th>id</th>\n",
       "      <th>userId</th>\n",
       "      <th>Longitude</th>\n",
       "      <th>Latitude</th>\n",
       "      <th>tag</th>\n",
       "      <th>at</th>\n",
       "      <th>day</th>\n",
       "      <th>month</th>\n",
       "      <th>year</th>\n",
       "    </tr>\n",
       "  </thead>\n",
       "  <tbody>\n",
       "    <tr>\n",
       "      <th>2122726</th>\n",
       "      <td>552805185706545153</td>\n",
       "      <td>23783420</td>\n",
       "      <td>47.3774</td>\n",
       "      <td>8.53676</td>\n",
       "      <td>['#jesuischarlie']</td>\n",
       "      <td>[]</td>\n",
       "      <td>2015-01-07</td>\n",
       "      <td>2015-01</td>\n",
       "      <td>2015</td>\n",
       "    </tr>\n",
       "    <tr>\n",
       "      <th>2122729</th>\n",
       "      <td>552805619062038529</td>\n",
       "      <td>23783420</td>\n",
       "      <td>47.3774</td>\n",
       "      <td>8.53676</td>\n",
       "      <td>['#journalisten', '#medienfreiheit', '#jesuisc...</td>\n",
       "      <td>[]</td>\n",
       "      <td>2015-01-07</td>\n",
       "      <td>2015-01</td>\n",
       "      <td>2015</td>\n",
       "    </tr>\n",
       "    <tr>\n",
       "      <th>2122740</th>\n",
       "      <td>552806885053988865</td>\n",
       "      <td>414754156</td>\n",
       "      <td>46.5287</td>\n",
       "      <td>6.65208</td>\n",
       "      <td>['#charliehebdo', '#jesuischarlie']</td>\n",
       "      <td>[]</td>\n",
       "      <td>2015-01-07</td>\n",
       "      <td>2015-01</td>\n",
       "      <td>2015</td>\n",
       "    </tr>\n",
       "    <tr>\n",
       "      <th>2122747</th>\n",
       "      <td>552807441407434752</td>\n",
       "      <td>448198451</td>\n",
       "      <td>46.2048</td>\n",
       "      <td>6.14319</td>\n",
       "      <td>['#cabu', '#charliehebdo', '#jesuischarlie']</td>\n",
       "      <td>[]</td>\n",
       "      <td>2015-01-07</td>\n",
       "      <td>2015-01</td>\n",
       "      <td>2015</td>\n",
       "    </tr>\n",
       "    <tr>\n",
       "      <th>2122750</th>\n",
       "      <td>552807881012424705</td>\n",
       "      <td>448198451</td>\n",
       "      <td>46.2048</td>\n",
       "      <td>6.14319</td>\n",
       "      <td>['#jesuischarlie', '#charliehebdo']</td>\n",
       "      <td>[]</td>\n",
       "      <td>2015-01-07</td>\n",
       "      <td>2015-01</td>\n",
       "      <td>2015</td>\n",
       "    </tr>\n",
       "    <tr>\n",
       "      <th>2122751</th>\n",
       "      <td>552808524020215808</td>\n",
       "      <td>2556353232</td>\n",
       "      <td>47.6206</td>\n",
       "      <td>6.78752</td>\n",
       "      <td>['#jesuischarlie']</td>\n",
       "      <td>[]</td>\n",
       "      <td>2015-01-07</td>\n",
       "      <td>2015-01</td>\n",
       "      <td>2015</td>\n",
       "    </tr>\n",
       "    <tr>\n",
       "      <th>2122753</th>\n",
       "      <td>552808602835369984</td>\n",
       "      <td>448198451</td>\n",
       "      <td>46.2048</td>\n",
       "      <td>6.14319</td>\n",
       "      <td>['#charb', '#charliehebdo', '#jesuischarlie']</td>\n",
       "      <td>[]</td>\n",
       "      <td>2015-01-07</td>\n",
       "      <td>2015-01</td>\n",
       "      <td>2015</td>\n",
       "    </tr>\n",
       "    <tr>\n",
       "      <th>2122763</th>\n",
       "      <td>552809303636475904</td>\n",
       "      <td>129821394</td>\n",
       "      <td>46.8031</td>\n",
       "      <td>7.15962</td>\n",
       "      <td>['#jesuischarlie', '#charliehebdo']</td>\n",
       "      <td>['@Charlie_Hebdo_']</td>\n",
       "      <td>2015-01-07</td>\n",
       "      <td>2015-01</td>\n",
       "      <td>2015</td>\n",
       "    </tr>\n",
       "    <tr>\n",
       "      <th>2122765</th>\n",
       "      <td>552809353657729024</td>\n",
       "      <td>391267192</td>\n",
       "      <td>46.01</td>\n",
       "      <td>7.3331</td>\n",
       "      <td>['#jesuischarlie']</td>\n",
       "      <td>[]</td>\n",
       "      <td>2015-01-07</td>\n",
       "      <td>2015-01</td>\n",
       "      <td>2015</td>\n",
       "    </tr>\n",
       "    <tr>\n",
       "      <th>2122779</th>\n",
       "      <td>552810466050052096</td>\n",
       "      <td>634553</td>\n",
       "      <td>46.1795</td>\n",
       "      <td>6.14126</td>\n",
       "      <td>['#charliehebdo', '#jesuischarlie']</td>\n",
       "      <td>[]</td>\n",
       "      <td>2015-01-07</td>\n",
       "      <td>2015-01</td>\n",
       "      <td>2015</td>\n",
       "    </tr>\n",
       "  </tbody>\n",
       "</table>\n",
       "</div>"
      ],
      "text/plain": [
       "                         id      userId Longitude Latitude  \\\n",
       "2122726  552805185706545153    23783420   47.3774  8.53676   \n",
       "2122729  552805619062038529    23783420   47.3774  8.53676   \n",
       "2122740  552806885053988865   414754156   46.5287  6.65208   \n",
       "2122747  552807441407434752   448198451   46.2048  6.14319   \n",
       "2122750  552807881012424705   448198451   46.2048  6.14319   \n",
       "2122751  552808524020215808  2556353232   47.6206  6.78752   \n",
       "2122753  552808602835369984   448198451   46.2048  6.14319   \n",
       "2122763  552809303636475904   129821394   46.8031  7.15962   \n",
       "2122765  552809353657729024   391267192     46.01   7.3331   \n",
       "2122779  552810466050052096      634553   46.1795  6.14126   \n",
       "\n",
       "                                                       tag  \\\n",
       "2122726                                 ['#jesuischarlie']   \n",
       "2122729  ['#journalisten', '#medienfreiheit', '#jesuisc...   \n",
       "2122740                ['#charliehebdo', '#jesuischarlie']   \n",
       "2122747       ['#cabu', '#charliehebdo', '#jesuischarlie']   \n",
       "2122750                ['#jesuischarlie', '#charliehebdo']   \n",
       "2122751                                 ['#jesuischarlie']   \n",
       "2122753      ['#charb', '#charliehebdo', '#jesuischarlie']   \n",
       "2122763                ['#jesuischarlie', '#charliehebdo']   \n",
       "2122765                                 ['#jesuischarlie']   \n",
       "2122779                ['#charliehebdo', '#jesuischarlie']   \n",
       "\n",
       "                          at         day    month  year  \n",
       "2122726                   []  2015-01-07  2015-01  2015  \n",
       "2122729                   []  2015-01-07  2015-01  2015  \n",
       "2122740                   []  2015-01-07  2015-01  2015  \n",
       "2122747                   []  2015-01-07  2015-01  2015  \n",
       "2122750                   []  2015-01-07  2015-01  2015  \n",
       "2122751                   []  2015-01-07  2015-01  2015  \n",
       "2122753                   []  2015-01-07  2015-01  2015  \n",
       "2122763  ['@Charlie_Hebdo_']  2015-01-07  2015-01  2015  \n",
       "2122765                   []  2015-01-07  2015-01  2015  \n",
       "2122779                   []  2015-01-07  2015-01  2015  "
      ]
     },
     "execution_count": 5,
     "metadata": {},
     "output_type": "execute_result"
    }
   ],
   "source": [
    "df_Charlie = search_hashtag(\"'#jesuischarlie'\", df_tag)\n",
    "df_Charlie.head(10)"
   ]
  },
  {
   "cell_type": "code",
   "execution_count": 6,
   "metadata": {
    "scrolled": true
   },
   "outputs": [
    {
     "data": {
      "image/png": "[encoded data removed]",
      "text/plain": [
       "<matplotlib.figure.Figure at 0x7fd59e72a6a0>"
      ]
     },
     "metadata": {},
     "output_type": "display_data"
    }
   ],
   "source": [
    "plot_frequency_tags(df_tag, 'day', \"#charliehebdo\", 100)"
   ]
  },
  {
   "cell_type": "markdown",
   "metadata": {},
   "source": [
    "Let us now try this for events that take place every year at the same period, for example Eurovision and Paléo Festival."
   ]
  },
  {
   "cell_type": "code",
   "execution_count": 7,
   "metadata": {
    "scrolled": true
   },
   "outputs": [
    {
     "data": {
      "image/png": "[encoded data removed]",
      "text/plain": [
       "<matplotlib.figure.Figure at 0x7fd593ef8f28>"
      ]
     },
     "metadata": {},
     "output_type": "display_data"
    }
   ],
   "source": [
    "plot_frequency_tags(df_tag, 'month', \"#eurovision\", 30)"
   ]
  },
  {
   "cell_type": "markdown",
   "metadata": {},
   "source": [
    "For Eurovision, we can clearly see a spike each year during the month of may, which is indeed when the contest takes place."
   ]
  },
  {
   "cell_type": "code",
   "execution_count": 8,
   "metadata": {
    "scrolled": true
   },
   "outputs": [
    {
     "data": {
      "image/png": "[encoded data removed]",
      "text/plain": [
       "<matplotlib.figure.Figure at 0x7fd5848b29b0>"
      ]
     },
     "metadata": {},
     "output_type": "display_data"
    }
   ],
   "source": [
    "plot_frequency_tags(df_tag, 'day', \"#paleo\", 100)"
   ]
  },
  {
   "cell_type": "markdown",
   "metadata": {},
   "source": [
    "For Paléo Festival, we can again see a spike each year during the end of month of July, but this time we can also see that it lasts about a week."
   ]
  },
  {
   "cell_type": "markdown",
   "metadata": {},
   "source": [
    "## 3.2 Geographic event localisation\n",
    "\n",
    "Here we can use the geographic information of the tweets to determine the location of an event. To do so, we display on a map the geolocation of each tweet that mentions a given hashtag. The following function were implemented in order to create this map."
   ]
  },
  {
   "cell_type": "code",
   "execution_count": 9,
   "metadata": {},
   "outputs": [],
   "source": [
    "def popup_html(row):\n",
    "    '''\n",
    "        Return the html to create a popup for the dataframe row.\n",
    "    '''\n",
    "    return \"\"\"\n",
    "    <style>\n",
    "    h3 {\n",
    "        color: black;\n",
    "        font-size: 16px;\n",
    "        text-align: center;\n",
    "    }\n",
    "    </style>\n",
    "    <h3> %s </h3>\n",
    "    <h3> %s </h3>\n",
    "    \"\"\" %( row.day, str(row.tag.replace(\"'\", \"\").replace(\"[\", \"\").replace(\"]\", \"\")) )\n",
    "\n",
    "def add_markers_to_map_(dataframe, map_, popup = True, maxClusterRadius = 10):\n",
    "    '''\n",
    "        Add the clusters of markers from the dataframe to the given map. \n",
    "    '''\n",
    "    popups = []\n",
    "    coordinates = []\n",
    "    for index,row in dataframe.iterrows():\n",
    "        if row.Latitude != '\\\\N' and row.Longitude != '\\\\N':\n",
    "            coordinates.append([float(row.Longitude), float(row.Latitude)])\n",
    "            if popup:\n",
    "                popups.append(folium.Popup(popup_html(row)))\n",
    "            else:\n",
    "                popups.append(\"\")\n",
    "            \n",
    "    marker_cluster = MarkerCluster(locations=coordinates, \n",
    "                                   popups=popups).add_to(map_)\n",
    "           \n",
    "def get_map_with_hasthtag(hashtag):\n",
    "    '''\n",
    "        Create a map with the markers for the given hashtag.\n",
    "    '''\n",
    "    swiss_coord = [46.8, 8.2]\n",
    "    \n",
    "    swiss_map = folium.Map(swiss_coord, zoom_start=8)\n",
    "    \n",
    "    # Get the dataframe of the tweet containing the hashtag.\n",
    "    indexes = get_index_with_hashtag(df_tag, hashtag)\n",
    "    event_df_tag = df_tag.iloc[indexes[0]]\n",
    "    \n",
    "    add_markers_to_map_(event_df_tag, swiss_map)\n",
    "    \n",
    "    return swiss_map"
   ]
  },
  {
   "cell_type": "markdown",
   "metadata": {},
   "source": [
    "Now let us try this with Eurovision and Paléo Festival, which were already used as examples previously. As we can see in the maps below, Eurovision is an international event since the geographic repartitions of tweet is quite homogenous over Switzerland. On the other hand, if we look at the hashtag '#paleo', we can quickly see that it takes place in Nyon because there is a very high concentration of tweets about Paléo in that area."
   ]
  },
  {
   "cell_type": "code",
   "execution_count": null,
   "metadata": {},
   "outputs": [],
   "source": [
    "get_map_with_hasthtag(\"eurovision\")"
   ]
  },
  {
   "cell_type": "code",
   "execution_count": null,
   "metadata": {},
   "outputs": [],
   "source": [
    "get_map_with_hasthtag(\"paleo\")"
   ]
  },
  {
   "cell_type": "markdown",
   "metadata": {},
   "source": [
    "# 4. Event detection"
   ]
  },
  {
   "cell_type": "markdown",
   "metadata": {},
   "source": [
    "## 1. Filtering out irrelevant hashtags\n",
    "<div style=\"background-color:red;padding:10px;margin:10px;color:white\">\n",
    "**TODO: Keep only unique tweet indices in the group_hashtag df, rewrite it and update the code that generates it. **\n",
    "</div>"
   ]
  },
  {
   "cell_type": "code",
   "execution_count": 11,
   "metadata": {},
   "outputs": [
    {
     "data": {
      "text/plain": [
       "tweets_idx           6197\n",
       "nb_unique_authors    6197\n",
       "dtype: int64"
      ]
     },
     "execution_count": 11,
     "metadata": {},
     "output_type": "execute_result"
    }
   ],
   "source": [
    "group_df_filtered = group_hashtags.sort_values('nb_unique_authors', ascending=False)\n",
    "#group_df_filtered = group_df_filtered[group_df_filtered['tweets_nb'] > 100]\n",
    "group_df_filtered = group_df_filtered[group_df_filtered['nb_unique_authors'] > 50]\n",
    "group_df_filtered.count()"
   ]
  },
  {
   "cell_type": "code",
   "execution_count": 12,
   "metadata": {},
   "outputs": [],
   "source": [
    "#group_hashtags = group_hashtags.set_index('hashtag')"
   ]
  },
  {
   "cell_type": "code",
   "execution_count": 13,
   "metadata": {},
   "outputs": [],
   "source": [
    "#group_df_filtered = group_df_filtered.set_index('hashtag')"
   ]
  },
  {
   "cell_type": "markdown",
   "metadata": {},
   "source": [
    "## 2. Basic algorithm"
   ]
  },
  {
   "cell_type": "code",
   "execution_count": 124,
   "metadata": {},
   "outputs": [],
   "source": [
    "def get_unique_authors_from_tweet_ids(tweet_ids):\n",
    "    return len(np.unique(df_tag.iloc[tweet_ids]['userId'].values))\n",
    "\n",
    "def get_unique_author_per_day(df):\n",
    "    \"\"\"Returns a dictionnary containing for each hashtags a dictionnary of dates\n",
    "       and the corresponding number of user that has tweeted this hashtag that day.\"\"\"\n",
    "    \n",
    "    dic_tag_days = {}\n",
    "    \n",
    "    for idx, row in df.iterrows():\n",
    "        grouped_day = df_tag.iloc[row['tweets_idx']].groupby('day')\n",
    "        dic_tag_days[idx] = grouped_day.apply(lambda x: get_unique_authors_from_tweet_ids(x.index.values)).to_dict()\n",
    "    \n",
    "    return dic_tag_days"
   ]
  },
  {
   "cell_type": "code",
   "execution_count": 125,
   "metadata": {},
   "outputs": [
    {
     "data": {
      "text/plain": [
       "dict_keys(['#soldout', '#swissalps', '#wcw', '#views', '#closingceremony', '#r8', '#funghi', '#spider', '#astonmartin', '#waterfall', '#sp', '#summeriscoming', '#studio', '#engadina', '#streetphotography', '#f4f', '#leafs', '#curling', '#flag', '#hungergames', '#friday', '#addio', '#collection', '#riprobinwilliams', '#chaos', '#salope', '#reflections', '#picnic', '#karma', '#skiing', '#chicago', '#brothers', '#listen', '#autumn', '#glace', '#srfrundschau', '#missfrance2014', '#cablecom', '#higuain', '#lech', '#piscine', '#top', '#amala', '#feusurtoi', '#fortboyard', '#traveller', '#genial', '#cm2014', '#swe', '#in', '#newpp', '#theater', '#fact', '#nye', '#different', '#ss7', '#lundi', '#lecture', '#france2', '#hartaberfair', '#golf', '#memories', '#ard', '#fiori', '#tweets', '#favorite', '#lp', '#420', '#gutenacht', '#teamitalia', '#lakeconstance', '#presents', '#lifeisbeautiful', '#lamp', '#imieiplayoff', '#market', '#app', '#estate', '#asap', '#i', '#exercise', '#likeforlike', '#are', '#brienz', '#eishockey', '#hike', '#winelover', '#singing', '#zurichsee', '#facts', '#workhardplayhard', '#greenpeace', '#voteadidas', '#can', '#hot', '#teamol', '#danse', '#deprime', '#college', '#deadpool'])"
      ]
     },
     "execution_count": 125,
     "metadata": {},
     "output_type": "execute_result"
    }
   ],
   "source": [
    "dic_tag_days = get_unique_author_per_day(group_df_filtered.head(100))\n",
    "dic_tag_days.keys()"
   ]
  },
  {
   "cell_type": "code",
   "execution_count": 126,
   "metadata": {},
   "outputs": [],
   "source": [
    "def plot_hashtag_occurence_for_dates(hashtag, dic_tag_days, start_date, end_date):\n",
    "    \"\"\"Display a bar plot of the number of unique users that\n",
    "       tweeted the given hashtag between the given dates.\n",
    "    \"\"\"\n",
    "    # Get the total number of days to be displayed\n",
    "    delta = end_date - start_date\n",
    "    nb_days = delta.days + 1\n",
    "    \n",
    "    # Create the array of string containing every day between the given end and start dates\n",
    "    dates = [str(start_date + timedelta(days=i)) for i in range(nb_days)]\n",
    "    # Get the corresponding nuber of unique users having tweeted the hashtag\n",
    "    nb_authors = [dic_tag_days.get(hashtag).get(d, 0) for d in dates]\n",
    "    \n",
    "    # Set the label for the xticks\n",
    "    date_ticks_period = math.ceil(nb_days/50)\n",
    "    date_ticks = [(dates[i] if i%date_ticks_period==0 else \"\") for i in range(nb_days)]\n",
    "    \n",
    "    # Display the bar plot\n",
    "    width = 0.5 if (nb_days < 200) else 1.0\n",
    "    left = [l + (1-width)/2 for l in range(nb_days)]\n",
    "    plt.figure(figsize=(min(20, nb_days/4),4))\n",
    "    plt.title(hashtag)\n",
    "    plt.bar(left, nb_authors, width=width)\n",
    "    plt.xticks(left, date_ticks, rotation='vertical')\n",
    "    plt.ylabel(\"Number of unique users \\n that tweeted the hashtag \")\n",
    "    plt.show()"
   ]
  },
  {
   "cell_type": "code",
   "execution_count": 127,
   "metadata": {
    "scrolled": false
   },
   "outputs": [
    {
     "data": {
      "image/png": "[encoded data removed]",
      "text/plain": [
       "<matplotlib.figure.Figure at 0x150034cf8>"
      ]
     },
     "metadata": {},
     "output_type": "display_data"
    }
   ],
   "source": [
    "plot_hashtag_occurence_for_dates('#cm2014', dic_tag_days, date(2014, 5, 15), date(2014, 8, 1))"
   ]
  },
  {
   "cell_type": "code",
   "execution_count": 136,
   "metadata": {
    "scrolled": true
   },
   "outputs": [
    {
     "data": {
      "image/png": "[encoded data removed]",
      "text/plain": [
       "<matplotlib.figure.Figure at 0x1587677b8>"
      ]
     },
     "metadata": {},
     "output_type": "display_data"
    }
   ],
   "source": [
    "plot_hashtag_occurence_for_dates('#riprobinwilliams', dic_tag_days, date(2014, 8, 1), date(2014, 8, 31))"
   ]
  },
  {
   "cell_type": "code",
   "execution_count": 138,
   "metadata": {},
   "outputs": [],
   "source": [
    "def get_average_unique_authors(hashtag, dic_tag_days, start_date, end_date):\n",
    "    # Get the total number of days to be displayed\n",
    "    delta = end_date - start_date\n",
    "    nb_days = delta.days + 1\n",
    "    \n",
    "    # Create the array of string containing every day between the given end and start dates\n",
    "    dates = [str(start_date + timedelta(days=i)) for i in range(nb_days)]\n",
    "    # Get the corresponding nuber of unique users having tweeted the hashtag\n",
    "    nb_authors = [dic_tag_days.get(hashtag).get(d, 0) for d in dates]\n",
    "    \n",
    "    mean = np.mean(nb_authors)\n",
    "    return mean"
   ]
  },
  {
   "cell_type": "code",
   "execution_count": 143,
   "metadata": {},
   "outputs": [
    {
     "data": {
      "text/plain": [
       "0.10856807511737089"
      ]
     },
     "execution_count": 143,
     "metadata": {},
     "output_type": "execute_result"
    }
   ],
   "source": [
    "get_average_unique_authors('#cm2014', dic_tag_days, date(2010, 1, 1), date(2016, 12, 31))"
   ]
  },
  {
   "cell_type": "code",
   "execution_count": 142,
   "metadata": {},
   "outputs": [
    {
     "data": {
      "text/plain": [
       "0.10093896713615023"
      ]
     },
     "execution_count": 142,
     "metadata": {},
     "output_type": "execute_result"
    }
   ],
   "source": [
    "get_average_unique_authors('#riprobinwilliams', dic_tag_days, date(2010, 1, 1), date(2016, 12, 31))"
   ]
  },
  {
   "cell_type": "markdown",
   "metadata": {},
   "source": [
    "## 3. Algorithm Optimization"
   ]
  },
  {
   "cell_type": "markdown",
   "metadata": {},
   "source": [
    "## 4. Event localisation"
   ]
  },
  {
   "cell_type": "markdown",
   "metadata": {},
   "source": [
    "(Please refer to the README.md file for a more precise description)"
   ]
  }
 ],
 "metadata": {
  "kernelspec": {
   "display_name": "Python [default]",
   "language": "python",
   "name": "python3"
  },
  "language_info": {
   "codemirror_mode": {
    "name": "ipython",
    "version": 3
   },
   "file_extension": ".py",
   "mimetype": "text/x-python",
   "name": "python",
   "nbconvert_exporter": "python",
   "pygments_lexer": "ipython3",
   "version": "3.5.4"
  }
 },
 "nbformat": 4,
 "nbformat_minor": 2
}

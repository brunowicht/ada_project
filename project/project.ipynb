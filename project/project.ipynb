{
 "cells": [
  {
   "cell_type": "code",
   "execution_count": 1,
   "metadata": {},
   "outputs": [],
   "source": [
    "import pandas as pd\n",
    "import time\n",
    "from datetime import date, timedelta, datetime\n",
    "import numpy as np\n",
    "from scipy.stats import norm\n",
    "import scipy.ndimage.filters\n",
    "import re\n",
    "import json\n",
    "import matplotlib.pyplot as plt\n",
    "import csv \n",
    "import os\n",
    "import folium\n",
    "import branca.colormap as cm\n",
    "from folium.plugins import MarkerCluster\n",
    "from folium import plugins\n",
    "import ast\n",
    "import math\n",
    "import pickle\n",
    "import sys\n",
    "\n",
    "from helper import * # File containig some helper functions\n",
    "from maps import *\n",
    "from plots import *\n",
    "from event_localization import *\n",
    "from const import *"
   ]
  },
  {
   "cell_type": "markdown",
   "metadata": {},
   "source": [
    "# [Link to interactive visualisation](https://nbviewer.jupyter.org/github/brunowicht/ada_project/blob/master/project/project.ipynb)"
   ]
  },
  {
   "cell_type": "markdown",
   "metadata": {},
   "source": [
    "<div style=\"background-color:gray;padding:10px;margin:10px;color:white\">\n",
    "**Run cell below to load necessary data**\n",
    "</div>"
   ]
  },
  {
   "cell_type": "code",
   "execution_count": 2,
   "metadata": {
    "scrolled": true
   },
   "outputs": [
    {
     "name": "stdout",
     "output_type": "stream",
     "text": [
      "Loading df_tag...\n",
      "Loading group_hashtags...\n",
      "Loading dic_tag_days...\n",
      "Done\n"
     ]
    }
   ],
   "source": [
    "print(\"Loading df_tag...\")\n",
    "df_tag = pd.read_csv(\"../../twitter_dataset/cleaned_hashtag.csv\", sep=';', encoding=\"utf-8\", low_memory=False)\n",
    "\n",
    "print(\"Loading group_hashtags...\")\n",
    "group_hashtags = pd.read_csv(\"../../twitter_dataset/hashtag_grouped.csv\", sep=\";\", index_col=[0], usecols=[0, 1, 2])\n",
    "group_hashtags.tweets_idx = group_hashtags.tweets_idx.apply(lambda s: ast.literal_eval(s))\n",
    "\n",
    "print(\"Loading dic_tag_days...\")\n",
    "pickle_in = open(\"../../twitter_dataset/dic_tag_days.pickle\",\"rb\")\n",
    "dic_tag_days = pickle.load(pickle_in)\n",
    "pickle_in.close()\n",
    "print(\"Done\")"
   ]
  },
  {
   "cell_type": "markdown",
   "metadata": {},
   "source": [
    "Definition of some constants relative to the dataset"
   ]
  },
  {
   "cell_type": "markdown",
   "metadata": {},
   "source": [
    "# 0. Understanding the dataset\n",
    "\n",
    "Before starting any kind of data analysis, we first have to review the content of our dataset and understand its meaning better. To do this, we use the data sample and the schema provided with the dataset.\n",
    "\n",
    "## 0.1. Dataset structure\n",
    "Let us first read the `schema.txt` file to understand what fields our dataset contains."
   ]
  },
  {
   "cell_type": "code",
   "execution_count": null,
   "metadata": {},
   "outputs": [],
   "source": [
    "schema = pd.read_table('twitter-swisscom/schema.txt', delimiter='    ', engine='python',\n",
    "                       names=['Field name', 'Type', 'Specification', 'Unsigned', 'Optional field', 'Format'] )\n",
    "schema"
   ]
  },
  {
   "cell_type": "markdown",
   "metadata": {},
   "source": [
    "The `schema.txt` contains information about each field in our dataset. We see that there are 20 possible fields for a tweet, but many of them are optional, so most tweets probably haver fewer specified field than that.\n",
    "\n",
    "Here are the fields that will be the most useful:\n",
    "- userId: to know who posted the tweet\n",
    "- createdAt: to know when the tweet was posted\n",
    "- text: content of the tweet\n",
    "- longitude and latitude: to know from where the tweet was posted\n",
    "\n",
    "\n",
    "## 0.2. Dataset contents\n",
    "Now, let us have a look at the actual content of our dataset using the provided sample."
   ]
  },
  {
   "cell_type": "code",
   "execution_count": null,
   "metadata": {
    "scrolled": true
   },
   "outputs": [],
   "source": [
    "sample_df = pd.read_csv('twitter-swisscom/sample.tsv', encoding='utf-8', sep='\\t', escapechar='\\\\', \n",
    "                        index_col='id', names=schema['Field name'], quoting=csv.QUOTE_NONE, na_values='N')\n",
    "sample_df.head()"
   ]
  },
  {
   "cell_type": "markdown",
   "metadata": {},
   "source": [
    "Let us check the percentage of `NaN` values for each field."
   ]
  },
  {
   "cell_type": "code",
   "execution_count": null,
   "metadata": {},
   "outputs": [],
   "source": [
    "sample_df.isnull().sum().apply(lambda s: '{0:.2f} %'.format(100*s/sample_df.shape[0]))"
   ]
  },
  {
   "cell_type": "markdown",
   "metadata": {},
   "source": [
    "We can observe that the `latitude` and `longitude` are quite often `NaN`, whereas the `placeLatitude`and `placeLongitude` fields are always specified. Therefore, we will use the latter fields.\n",
    "\n",
    "Let us visualize the geographical distribution of the tweets in the sample dataset."
   ]
  },
  {
   "cell_type": "code",
   "execution_count": null,
   "metadata": {},
   "outputs": [],
   "source": [
    "swiss_coord = [46.8, 8.2]\n",
    "swiss_map = folium.Map(swiss_coord, zoom_start=8)\n",
    "add_markers_to_map_(sample_df.rename(columns={\"placeLongitude\": \"Latitude\", \"placeLatitude\": \"Longitude\"}), swiss_map, False)"
   ]
  },
  {
   "cell_type": "code",
   "execution_count": null,
   "metadata": {},
   "outputs": [],
   "source": [
    "swiss_map"
   ]
  },
  {
   "cell_type": "markdown",
   "metadata": {},
   "source": [
    "# 1. Data cleaning and pre-processing"
   ]
  },
  {
   "cell_type": "code",
   "execution_count": null,
   "metadata": {},
   "outputs": [],
   "source": [
    "# The only columns we keep before any computation\n",
    "keep_col = ['id', 'userId', 'createdAt', 'text', 'placeLongitude', 'placeLatitude']"
   ]
  },
  {
   "cell_type": "markdown",
   "metadata": {},
   "source": [
    "Here we have the script for reading the whole dataset, filter the tags and identification in the text and store everything in a dataframe.  \n",
    "The function `get_hashtag(text)` takes text, extract the hashtags (all the hashtags have been lowercased because uppercase does not add any information)."
   ]
  },
  {
   "cell_type": "code",
   "execution_count": null,
   "metadata": {
    "scrolled": true
   },
   "outputs": [],
   "source": [
    "df = pd.read_csv('twitter-swisscom/sample.tsv', encoding='utf-8', sep='\\t', escapechar='\\\\',\n",
    "                 names=schema['Field name'], quoting=csv.QUOTE_NONE, na_values='N')\n",
    "\n",
    "# We only keep the column we are interested in\n",
    "df = df[keep_col]\n",
    "\n",
    "# Extract the hashtags from the text.\n",
    "df['tag'] = df.text.apply(lambda t: get_hashtags(t))\n",
    "\n",
    "# We will not use the text anymore, no need to keep it.\n",
    "df = df.drop(['text'], axis=1)\n",
    "\n",
    "# Rename latitude and longitute for easier future usage.\n",
    "df = df.rename(columns={'placeLongitude': 'Longitude', 'placeLatitude': 'Latitude'})\n",
    "df.head()"
   ]
  },
  {
   "cell_type": "code",
   "execution_count": null,
   "metadata": {},
   "outputs": [],
   "source": [
    "df.isnull().sum().apply(lambda s: '{0:.2f} %'.format(100*s/df.shape[0]))"
   ]
  },
  {
   "cell_type": "markdown",
   "metadata": {},
   "source": [
    "To be able to easily group by day, month or year, we decided to add those three columns to our dataframe, so we can drop the createdAt column which contains also the time (with second precision) of the tweet post, but we will not need it. We still need to set the tweet id as the unique index of tweets to be able to retreive some information in the original dataset if needed."
   ]
  },
  {
   "cell_type": "code",
   "execution_count": null,
   "metadata": {},
   "outputs": [],
   "source": [
    "df['day'] = df.createdAt.apply(lambda x : x[:10])\n",
    "df['month'] = df.createdAt.apply(lambda x : x[:7])\n",
    "df['year'] = df.createdAt.apply(lambda x : x[:4])\n",
    "df = df.drop(['createdAt'],axis=1)\n",
    "df = df.set_index('id')"
   ]
  },
  {
   "cell_type": "markdown",
   "metadata": {},
   "source": [
    "We can then store the resulting dataframe in a new csv file which is around 3 times smaller than the original one. We can then filter tweet that contains at least one hashtag and thos which contains at least one identification to create subdataset as we want to work with hashtags and identifications."
   ]
  },
  {
   "cell_type": "code",
   "execution_count": null,
   "metadata": {},
   "outputs": [],
   "source": [
    "df.to_csv('../../twitter_dataset/cleaned.csv', sep=';', encoding='utf-8')"
   ]
  },
  {
   "cell_type": "code",
   "execution_count": null,
   "metadata": {},
   "outputs": [],
   "source": [
    "df_tag = df[(df[\"tag\"].astype(str) != '[]')]\n",
    "df_tag.to_csv('../../twitter_dataset/cleaned_hashtag.csv', sep=';', encoding='utf-8')"
   ]
  },
  {
   "cell_type": "markdown",
   "metadata": {},
   "source": [
    "# 2. Data Manipulation\n",
    "## 2.1. Grouping by hashtag\n",
    "\n",
    "The first step of our descriptive data analysis is to group all tweets by hashtags. In other words, we want to have a dataframe containing for each hashtag the indices of the tweets in which it appears. This will allow us to count find the most popular hashtags, and later agregate them by time.\n",
    "\n",
    "First, we retrieve our cleaned dataset containing tweets with hashtags by loading it from the file we save in the previous step. This allows us to avoid unnecessary computations."
   ]
  },
  {
   "cell_type": "code",
   "execution_count": null,
   "metadata": {
    "scrolled": true
   },
   "outputs": [],
   "source": [
    "df_tag = pd.read_csv(\"../../twitter_dataset/cleaned_hashtag.csv\", sep=';', encoding=\"utf-8\")"
   ]
  },
  {
   "cell_type": "markdown",
   "metadata": {},
   "source": [
    "Then we can implement the main function that will group our data by hashtag as described above.\n",
    "\n",
    "For the sake of clarity, the following functions were moved in the `helper.py` file:\n",
    "- `get_hashtags(text, lowercase=True)` : Returns the list of all hashtags present in the given text.\n",
    "- `get_index_with_hashtag(df, hashtag)` : Returns the indices of the tweets in which the given hashtag appears."
   ]
  },
  {
   "cell_type": "code",
   "execution_count": null,
   "metadata": {},
   "outputs": [],
   "source": [
    "def group_by_hashtag(df):\n",
    "    \"\"\"For each hashtag, give the indices of the tweets in which it appears.\n",
    "    \n",
    "    df: dataframe to use for the grouping\n",
    "    load_hashtags_list: if True, loads the list of different hashtags from a file saved previously.\n",
    "                        if False, computes the hashtag list again.\n",
    "    \"\"\"\n",
    "    \n",
    "    # Get the indices of the tweets in which each hashtag appears\n",
    "    output = {}\n",
    "    for index, item in df.iterrows():\n",
    "        tags = get_hashtags(item.tag, lowercase=False)\n",
    "        for tag in tags:\n",
    "            if(tag in output):\n",
    "                output_tag = output[tag]\n",
    "                output_tag[0].append(index)\n",
    "                output_tag[1].append(item.userId)\n",
    "            else:\n",
    "                output[tag] = [[index], [item.userId]]\n",
    "    \n",
    "    for tag, lists in output.items():\n",
    "        output_tag = output[tag]\n",
    "        output_tag[0] = list(np.unique(np.array(lists[0])))\n",
    "        output_tag[1] = len(np.unique(np.array(lists[1])))\n",
    "    \n",
    "    \n",
    "    \n",
    "    # Convert to dataframe\n",
    "    output_df = pd.DataFrame.from_dict(output, orient='index')\n",
    "    output_df.reset_index(inplace=True)\n",
    "    output_df.columns = ['hashtag', 'tweets_idx', 'nb_unique_authors']\n",
    "    return output_df"
   ]
  },
  {
   "cell_type": "markdown",
   "metadata": {},
   "source": [
    "Then we can actually call this function on our dataset. We store the result in a csv file so that we won't have to compute it again."
   ]
  },
  {
   "cell_type": "code",
   "execution_count": null,
   "metadata": {
    "scrolled": false
   },
   "outputs": [],
   "source": [
    "# Compute the groups by hashtag\n",
    "group_hashtags = group_by_hashtag(df_tag)\n",
    "group_hashtags = group_hashtags.set_index(\"hashtag\")\n",
    "\n",
    "# Save result to csv file\n",
    "group_hashtags.to_csv(\"../../twitter_dataset/hashtag_grouped.csv\", sep=\";\", encoding=\"utf-8\", columns=[\"tweets_idx\", \"nb_unique_authors\"])"
   ]
  },
  {
   "cell_type": "code",
   "execution_count": null,
   "metadata": {},
   "outputs": [],
   "source": [
    "# Read hashtag groups from file\n",
    "group_hashtags = pd.read_csv(\"../../twitter_dataset/hashtag_grouped.csv\", sep=\";\", index_col=[0], usecols=[0, 1, 2])\n",
    "group_hashtags.tweets_idx = group_hashtags.tweets_idx.apply(lambda s: ast.literal_eval(s))\n",
    "group_hashtags.head()"
   ]
  },
  {
   "cell_type": "markdown",
   "metadata": {},
   "source": [
    "We now have for each hashtag of our dataset the indices of the tweets in which it appears. With that data, we can for example see what hashtags were tweeted the most."
   ]
  },
  {
   "cell_type": "code",
   "execution_count": null,
   "metadata": {},
   "outputs": [],
   "source": [
    "# Get the occurence of each hashtag\n",
    "group_hashtags['tweets_nb'] = group_hashtags['tweets_idx'].apply(lambda ls: len(ls))\n",
    "\n",
    "# Get the 1510most popular hashtags\n",
    "group_hashtags.sort_values('tweets_nb', ascending=False).drop(['tweets_idx'], axis=1).head(10)"
   ]
  },
  {
   "cell_type": "markdown",
   "metadata": {},
   "source": [
    "# 3. Data Analysis and Visualization"
   ]
  },
  {
   "cell_type": "markdown",
   "metadata": {},
   "source": [
    "## 3.1. Visualizing hashtag frequency\n",
    "We want to be able to determine if a certain hashtag has a spike of popularity at a certain time. To do that, we visualize the number of tweets containing a given hashtag per unit of time (day, month, or year)\n",
    "\n",
    "For the sake of clarity, the following functions were moved in the `helper.py` file:\n",
    "- `search_hashtag(hashtag, df)` : Filter the given dataset to keep only elements that contain the given hashtag.\n",
    "- `plot_frequency_tags(df, col, hashtag, n)` : Display a bar plot of the number of tweets with the given hashtag per unit of time given in 'col' (day, month or year) .\n",
    "\n",
    "For example, let us take a look at the tweets with the hashtag '#jesuischarlie'."
   ]
  },
  {
   "cell_type": "code",
   "execution_count": null,
   "metadata": {
    "scrolled": true
   },
   "outputs": [],
   "source": [
    "df_Charlie = search_hashtag(\"#jesuischarlie\", df_tag, group_hashtags)\n",
    "df_Charlie.head(10)"
   ]
  },
  {
   "cell_type": "code",
   "execution_count": null,
   "metadata": {
    "scrolled": true
   },
   "outputs": [],
   "source": [
    "plot_frequency_tags(df_tag, 'day', \"#charliehebdo\", 100, group_hashtags)"
   ]
  },
  {
   "cell_type": "markdown",
   "metadata": {},
   "source": [
    "Let us now try this for events that take place every year at the same period, for example Eurovision and Paléo Festival."
   ]
  },
  {
   "cell_type": "code",
   "execution_count": null,
   "metadata": {
    "scrolled": true
   },
   "outputs": [],
   "source": [
    "plot_frequency_tags(df_tag, 'month', \"#eurovision\", 30, group_hashtags)"
   ]
  },
  {
   "cell_type": "markdown",
   "metadata": {},
   "source": [
    "For Eurovision, we can clearly see a spike each year during the month of may, which is indeed when the contest takes place."
   ]
  },
  {
   "cell_type": "code",
   "execution_count": null,
   "metadata": {
    "scrolled": true
   },
   "outputs": [],
   "source": [
    "plot_frequency_tags(df_tag, 'day', \"#paleo\", 100, group_hashtags)"
   ]
  },
  {
   "cell_type": "markdown",
   "metadata": {},
   "source": [
    "For Paléo Festival, we can again see a spike each year during the end of month of July, but this time we can also see that it lasts about a week."
   ]
  },
  {
   "cell_type": "markdown",
   "metadata": {},
   "source": [
    "## 3.2 Geographic event localisation\n",
    "\n",
    "Here we can use the geographic information of the tweets to determine the location of an event. To do so, we display on a map the geolocation of each tweet that mentions a given hashtag. The following function were implemented in order to create this map."
   ]
  },
  {
   "cell_type": "markdown",
   "metadata": {},
   "source": [
    "Now let us try this with Eurovision and Paléo Festival, which were already used as examples previously. As we can see in the maps below, Eurovision is an international event since the geographic repartitions of tweet is quite homogenous over Switzerland. On the other hand, if we look at the hashtag '#paleo', we can quickly see that it takes place in Nyon because there is a very high concentration of tweets about Paléo in that area."
   ]
  },
  {
   "cell_type": "code",
   "execution_count": null,
   "metadata": {},
   "outputs": [],
   "source": [
    "get_map_with_hasthtag(\"#eurovision\", df_tag, group_hashtags)"
   ]
  },
  {
   "cell_type": "code",
   "execution_count": null,
   "metadata": {},
   "outputs": [],
   "source": [
    "get_map_with_hasthtag(\"#paleo\", df_tag, group_hashtags)"
   ]
  },
  {
   "cell_type": "markdown",
   "metadata": {},
   "source": [
    "# 4. Event detection"
   ]
  },
  {
   "cell_type": "markdown",
   "metadata": {},
   "source": [
    "## 1. Filtering out irrelevant hashtags\n",
    "\n",
    "Currently, we have way too many hashtags and it would be unfeasible run our event detection algorithm on every single one of them. Thus we have to filter out hashtags that are very unlikely to be detected as events by our algorithm."
   ]
  },
  {
   "cell_type": "code",
   "execution_count": null,
   "metadata": {
    "scrolled": true
   },
   "outputs": [],
   "source": [
    "print(\"Total number of hashtags : %s\" % group_hashtags.shape[0])"
   ]
  },
  {
   "cell_type": "markdown",
   "metadata": {},
   "source": [
    "First, we filter our hashtags by keeping only the ones that are used in more than **100** tweets. Then remove hashtags tweeted by less than **50** unique users. By filtering with respect to the number of unique users instead of the total number of tweets, we discard hashtags that were tweeted many times by only a few number of people. This could be the case if one or a few twitter bots tweet some hashtag an insane number of times in a short period."
   ]
  },
  {
   "cell_type": "code",
   "execution_count": null,
   "metadata": {},
   "outputs": [],
   "source": [
    "def get_max_daily_unique_authors(hashtag_dic_days):\n",
    "    return max(hashtag_dic_days.values())"
   ]
  },
  {
   "cell_type": "code",
   "execution_count": null,
   "metadata": {},
   "outputs": [],
   "source": [
    "group_df_filtered = group_hashtags.copy()\n",
    "group_df_filtered = group_df_filtered[group_df_filtered['tweets_nb'] > 100]\n",
    "group_df_filtered = group_df_filtered[group_df_filtered['nb_unique_authors'] > 50]\n",
    "\n",
    "group_df_filtered['max_unique_author_day'] = group_df_filtered.index.map(lambda hashtag: get_max_daily_unique_authors(dic_tag_days.get(hashtag)))\n",
    "group_df_filtered[group_df_filtered['max_unique_author_day'] > 5].shape[0]\n",
    "\n",
    "group_df_filtered.shape[0]"
   ]
  },
  {
   "cell_type": "code",
   "execution_count": null,
   "metadata": {},
   "outputs": [],
   "source": [
    "# Get the list of the hashtag for the event detection.\n",
    "tag_list = group_df_filtered.index.values\n",
    "tag_list"
   ]
  },
  {
   "cell_type": "code",
   "execution_count": null,
   "metadata": {},
   "outputs": [],
   "source": [
    "def get_unique_author_per_frequency(df, frequency, df_tag):\n",
    "    \"\"\"\n",
    "        Returns a dictionnary containing for each hashtags a dictionnary of dates\n",
    "        and the corresponding number of user that has tweeted this hashtag frequency.\n",
    "        \n",
    "        df: group_df_filtered\n",
    "        frequency: one of the following values : {\"day\", \"month\", \"year\"}\n",
    "    \"\"\"\n",
    "    \n",
    "    print('Computing dictionnary...')\n",
    "    dic_tag_days = {}\n",
    "    nb_tags = df.shape[0]\n",
    "    row_nb = 0\n",
    "    \n",
    "    for tag, row in df.iterrows():\n",
    "        row_nb = row_nb + 1\n",
    "        grouped_day = df_tag.iloc[row['tweets_idx']]\n",
    "\n",
    "        grouped_day = grouped_day.drop_duplicates([\"userId\", frequency], \"first\")\n",
    "        dic_tag_days[tag] = grouped_day[frequency].value_counts()\n",
    "        \n",
    "        sys.stdout.write(\"\\r{0:.2f}%\".format((float(row_nb)/nb_tags)*100))\n",
    "        sys.stdout.flush()\n",
    "    \n",
    "    return dic_tag_days"
   ]
  },
  {
   "cell_type": "code",
   "execution_count": null,
   "metadata": {
    "scrolled": true
   },
   "outputs": [],
   "source": [
    "# Compute dictionnary of hashtags occurences per day\n",
    "dic_tag_days = get_unique_author_per_day(group_df_filtered, \"day\", df_tag)\n",
    "\n",
    "# Save dictionnary to file\n",
    "print('\\nSaving dictionnary to file...')\n",
    "pickle_out = open(\"../../twitter_dataset/dic_tag_days.pickle\",\"wb\")\n",
    "pickle.dump(dic_tag_days, pickle_out)\n",
    "pickle_out.close()"
   ]
  },
  {
   "cell_type": "code",
   "execution_count": null,
   "metadata": {},
   "outputs": [],
   "source": [
    "# Load dictionnary of hashtags occurences per day from file\n",
    "pickle_in = open(\"../../twitter_dataset/dic_tag_days.pickle\",\"rb\")\n",
    "dic_tag_days = pickle.load(pickle_in)\n",
    "pickle_in.close()"
   ]
  },
  {
   "cell_type": "markdown",
   "metadata": {},
   "source": [
    "## 2. Event Location algorithm"
   ]
  },
  {
   "cell_type": "code",
   "execution_count": null,
   "metadata": {
    "scrolled": false
   },
   "outputs": [],
   "source": [
    "plot_hashtag_occurence_for_dates('#facebook', dic_tag_days, date(2014, 5, 15), date(2014, 8, 1))"
   ]
  },
  {
   "cell_type": "code",
   "execution_count": 3,
   "metadata": {},
   "outputs": [],
   "source": [
    "def get_average(hashtag, dic_tag_days, start_date, end_date):\n",
    "    \"\"\"Returns the average number of unique authors of the given hashtag between the given dates.\n",
    "    \"\"\"\n",
    "    # Get the total number of days to be displayed\n",
    "    delta = end_date - start_date\n",
    "    nb_days = delta.days + 1\n",
    "    \n",
    "    # Create the array of string containing every day between the given end and start dates\n",
    "    dates = [str(start_date + timedelta(days=i)) for i in range(nb_days)]\n",
    "    # Get the corresponding number of unique users having tweeted the hashtag\n",
    "    nb_authors = [dic_tag_days.get(hashtag).get(d, 0) for d in dates]\n",
    "    \n",
    "    mean = np.mean(nb_authors)\n",
    "    return mean\n",
    "\n",
    "def get_event_score(day, dic_hashtag, moving_avg, event_kernel, max_factor=2):\n",
    "    \"\"\"Returns the event score for a given day.\n",
    "       This is obtained by innerproduct between the number of unique authors and the given kernel, \n",
    "       and then dividing by the given moving average (which is an average over values around that day).\n",
    "    \"\"\"\n",
    "    # Get the number of unique authors for the given day\n",
    "    day_value = dic_hashtag.get(str(day), 0)\n",
    "    \n",
    "    # If no tweets that day, the score is 0\n",
    "    if day_value == 0:\n",
    "        event_score = 0\n",
    "    else:\n",
    "        # Compute the inner product of the values with the given kernel centered around the day of interest\n",
    "        h = int(len(event_kernel) / 2)\n",
    "        event_inner_prod = 0\n",
    "        for i in range(-h, h+1):\n",
    "            d = day + timedelta(i)\n",
    "            # For the inner product, we limit the values used to max_factor*day_value\n",
    "            value_i = min(max_factor*day_value, dic_hashtag.get(str(d), 0))\n",
    "            event_inner_prod += event_kernel[i + h] * min(max_factor*day_value, dic_hashtag.get(str(d), 0))\n",
    "        \n",
    "        # Divide the innerproduct by the moving average to get the event score\n",
    "        event_score = event_inner_prod / max(1, moving_avg)\n",
    "    \n",
    "    return event_score\n",
    "\n",
    "def my_detect_event(hashtag, dic_tag_days, threshold=4, averaging_window=35):\n",
    "    \"\"\"Detect potential events related to the given hashtag. \n",
    "       Returns the detected event dates, and an array of event scores for each day in the dataset.\n",
    "    \"\"\"\n",
    "    event_kernel = [0.1, 0.8, 0.1]\n",
    "    dic_hashtag = dic_tag_days.get(hashtag)\n",
    "    \n",
    "    # Create the array containing every day included in the dataset\n",
    "    dates = np.asarray([DATASET_BEGIN_DATE + timedelta(days=i) for i in range(DATASET_TOTAL_DAYS)])\n",
    "    \n",
    "    # Compute the the average and variance for the first moving window\n",
    "    moving_avg_window_end = DATASET_BEGIN_DATE + timedelta(days=averaging_window - 1)\n",
    "    moving_avg = get_average(hashtag, dic_tag_days, DATASET_BEGIN_DATE, moving_avg_window_end)\n",
    "    half_window = int(averaging_window / 2)\n",
    "        \n",
    "    # Compute the event score for each day\n",
    "    event_score = np.zeros(len(dates)) \n",
    "    for i in range(half_window, len(dates) - half_window):\n",
    "        if i != half_window:\n",
    "            moving_avg_update = (dic_hashtag.get(str(dates[i+half_window]),0) - dic_hashtag.get(str(dates[i-half_window-1]),0)) / averaging_window\n",
    "            moving_avg = moving_avg + moving_avg_update\n",
    "        \n",
    "        event_score[i] = get_event_score(dates[i], dic_hashtag, moving_avg, event_kernel)\n",
    "        \n",
    "    # Get the dates at which an event was detected\n",
    "    event_dates = dates[np.where(event_score >= threshold)]\n",
    "    event_dates = [str(d) for d in event_dates]\n",
    "    \n",
    "    return (event_dates, event_score)\n",
    "\n",
    "def my_detect_events(dic_tag_days, threshold=4, averaging_window=35):\n",
    "    event_dic = {}\n",
    "    nb_tags = len(dic_tag_days.keys())\n",
    "    print(\"Detecting events...\")\n",
    "    \n",
    "    for tag_idx, tag in enumerate(dic_tag_days.keys()):\n",
    "        detected_events = my_detect_event(tag, dic_tag_days, threshold=threshold, averaging_window=averaging_window)[0]\n",
    "        \n",
    "        if len(detected_events) > 0:\n",
    "            event_dic[tag] = detected_events\n",
    "        \n",
    "        sys.stdout.write(\"\\r{0:.2f}%\".format((float(tag_idx+1)/nb_tags)*100))\n",
    "        sys.stdout.flush()\n",
    "    print(\"\\n\")\n",
    "    \n",
    "    return event_dic"
   ]
  },
  {
   "cell_type": "code",
   "execution_count": 4,
   "metadata": {
    "scrolled": true
   },
   "outputs": [
    {
     "name": "stdout",
     "output_type": "stream",
     "text": [
      "Detecting events...\n",
      "100.00%\n",
      "\n",
      "Events were found for 2108 hashtags out of 6197\n"
     ]
    }
   ],
   "source": [
    "event_dic = my_detect_events(dic_tag_days)\n",
    "\n",
    "print(\"Events were found for {} hashtags out of {}\".format(len(event_dic.keys()), len(dic_tag_days.keys())))"
   ]
  },
  {
   "cell_type": "code",
   "execution_count": null,
   "metadata": {},
   "outputs": [],
   "source": [
    "event_dic"
   ]
  },
  {
   "cell_type": "code",
   "execution_count": 7,
   "metadata": {},
   "outputs": [
    {
     "data": {
      "image/png": "[encoded data removed]",
      "text/plain": [
       "<matplotlib.figure.Figure at 0x153c6ceb8>"
      ]
     },
     "metadata": {},
     "output_type": "display_data"
    },
    {
     "data": {
      "text/plain": [
       "['2012-12-24',\n",
       " '2012-12-25',\n",
       " '2013-12-24',\n",
       " '2013-12-25',\n",
       " '2014-12-24',\n",
       " '2014-12-25',\n",
       " '2015-12-24',\n",
       " '2015-12-25']"
      ]
     },
     "execution_count": 7,
     "metadata": {},
     "output_type": "execute_result"
    }
   ],
   "source": [
    "hashtag = \"#christmas\"\n",
    "threshold = 4\n",
    "(event_dates, event_score) = my_detect_event(hashtag, dic_tag_days, threshold=threshold)\n",
    "plot_hashtag_and_event_score(hashtag, event_score, dic_tag_days, date(2015, 11, 1), date(2015, 12, 31), threshold=threshold)\n",
    "event_dates"
   ]
  },
  {
   "cell_type": "code",
   "execution_count": 8,
   "metadata": {
    "scrolled": false
   },
   "outputs": [
    {
     "data": {
      "image/png": "[encoded data removed]",
      "text/plain": [
       "<matplotlib.figure.Figure at 0x121eb76a0>"
      ]
     },
     "metadata": {},
     "output_type": "display_data"
    },
    {
     "data": {
      "text/plain": [
       "['2015-01-07', '2015-01-08']"
      ]
     },
     "execution_count": 8,
     "metadata": {},
     "output_type": "execute_result"
    }
   ],
   "source": [
    "hashtag = \"#jesuischarlie\"\n",
    "threshold = 6\n",
    "(event_dates, event_score) = my_detect_event(hashtag, dic_tag_days, threshold=threshold)\n",
    "plot_hashtag_and_event_score(hashtag, event_score, dic_tag_days, date(2015, 1, 1), date(2015, 1, 30), threshold=threshold)\n",
    "event_dates"
   ]
  },
  {
   "cell_type": "code",
   "execution_count": 9,
   "metadata": {
    "scrolled": false
   },
   "outputs": [
    {
     "data": {
      "image/png": "[encoded data removed]",
      "text/plain": [
       "<matplotlib.figure.Figure at 0x1180a97b8>"
      ]
     },
     "metadata": {},
     "output_type": "display_data"
    },
    {
     "data": {
      "text/plain": [
       "['2014-07-22',\n",
       " '2014-07-23',\n",
       " '2014-07-24',\n",
       " '2014-07-25',\n",
       " '2014-07-27',\n",
       " '2015-07-20',\n",
       " '2015-07-21',\n",
       " '2015-07-22',\n",
       " '2015-07-23',\n",
       " '2016-07-20',\n",
       " '2016-07-23',\n",
       " '2016-07-24']"
      ]
     },
     "execution_count": 9,
     "metadata": {},
     "output_type": "execute_result"
    }
   ],
   "source": [
    "hashtag = \"#paleo\"\n",
    "threshold = 4\n",
    "(event_dates, event_score) = my_detect_event(hashtag, dic_tag_days, threshold=threshold)\n",
    "plot_hashtag_and_event_score(hashtag, event_score, dic_tag_days, date(2014, 7, 10), date(2014, 7, 31), threshold=threshold)\n",
    "event_dates"
   ]
  },
  {
   "cell_type": "markdown",
   "metadata": {},
   "source": [
    "## 3. Event localization"
   ]
  },
  {
   "cell_type": "code",
   "execution_count": null,
   "metadata": {},
   "outputs": [],
   "source": [
    "hashtag = '#paleo'\n",
    "dates = [date(2016, 7, 19), date(2016, 7, 20), date(2016, 7, 21), date(2016, 7, 22), date(2016, 7, 23)]\n",
    "display_event_map(hashtag, dates, df_tag, group_hashtags)"
   ]
  },
  {
   "cell_type": "code",
   "execution_count": null,
   "metadata": {},
   "outputs": [],
   "source": [
    "hashtag = '#riprobinwilliams'\n",
    "dates = [date(2014, 8, 12)]\n",
    "display_event_map(hashtag, dates, df_tag, group_hashtags)"
   ]
  },
  {
   "cell_type": "code",
   "execution_count": 5,
   "metadata": {},
   "outputs": [
    {
     "name": "stdout",
     "output_type": "stream",
     "text": [
      "Computing events locations...\n",
      "100.00%\n",
      "\n",
      "Locations were found for 238 events out of 2108\n"
     ]
    }
   ],
   "source": [
    "events_locations = get_events_locations(event_dic, df_tag, group_hashtags)\n",
    "\n",
    "print(\"Locations were found for {} events out of {}\".format(len(events_locations), len(event_dic.keys())))"
   ]
  },
  {
   "cell_type": "code",
   "execution_count": 6,
   "metadata": {},
   "outputs": [
    {
     "data": {
      "text/plain": [
       "{'#adele': (array([ 47.3774 ,   8.53676]), 0.21694693877551025),\n",
       " '#ai': (array([ 46.2048 ,   6.14319]), 0.09013428571428575),\n",
       " '#air14': (array([ 46.8213 ,   6.93576]), 0.142516462585034),\n",
       " '#amg': (array([ 46.2363,   6.1185]), 0.11226272727272719),\n",
       " '#amr': (array([ 46.2048 ,   6.14319]), 0.0),\n",
       " '#anges5': (array([ 46.2088 ,   6.09362]), 0.1902239999999992),\n",
       " '#annecy': (array([ 45.8497 ,   6.10093]), 0.018042000000000013),\n",
       " '#annecyfestival': (array([ 45.8497 ,   6.10093]), 0.012216972477064479),\n",
       " '#artbasel': (array([ 47.5596 ,   7.58314]), 0.046438876146789015),\n",
       " '#artbasel2015': (array([ 47.5596 ,   7.58314]), 0.028425153374233087),\n",
       " '#artbasel2016': (array([ 47.5596 ,   7.58314]), 0.0074903999999999908),\n",
       " '#artist': (array([ 47.5596 ,   7.58314]), 0.027513636363636351),\n",
       " '#astonmartin': (array([ 46.2363,   6.1185]), 0.012381818181818393),\n",
       " '#audi': (array([ 46.2363,   6.1185]), 0.083039253731343202),\n",
       " '#avoriaz': (array([ 46.1381,   6.6796]), 0.040759999999999991),\n",
       " '#basel': (array([ 47.5596 ,   7.58314]), 0.097541363636363662),\n",
       " '#baselworld': (array([ 47.5596 ,   7.58314]), 0.043282339622641476),\n",
       " '#baselworld2014': (array([ 47.5596 ,   7.58314]), 0.06204347639484975),\n",
       " '#baselworld2016': (array([ 47.5596 ,   7.58314]), 0.048964578947368408),\n",
       " '#basilea': (array([ 47.5596 ,   7.58314]), 0.0061750000000000416),\n",
       " '#belfort': (array([ 47.646  ,   6.79669]), 0.15041384615384615),\n",
       " '#beliebers': (array([ 47.0408 ,   8.31721]), 0.19348000000000193),\n",
       " '#bentley': (array([ 46.2048 ,   6.14319]), 0.085807272727272649),\n",
       " '#bern': (array([ 46.9543 ,   7.39491]), 0.07094615384615377),\n",
       " '#besancon': (array([ 47.2604 ,   6.01219]), 0.075438421052631516),\n",
       " '#besançon': (array([ 47.2604 ,   6.01219]), 0.05132749999999995),\n",
       " '#bitcoin': (array([ 47.3774 ,   8.53676]), 0.21852090909090904),\n",
       " '#bizhumanrights': (array([ 46.2048 ,   6.14319]), 0.019114663677130047),\n",
       " '#bodensee': (array([ 47.6684 ,   9.23396]), 0.24657684210526334),\n",
       " '#bormio': (array([ 46.4927,  10.4121]), 0.123408548387097),\n",
       " '#bosw': (array([ 47.3774 ,   8.53676]), 0.064372712550607336),\n",
       " '#bscyb': (array([ 46.955  ,   7.39491]), 0.22529714285714306),\n",
       " '#bugatti': (array([ 46.2363,   6.1185]), 0.084838214285714184),\n",
       " '#carporn': (array([ 46.2363,   6.1185]), 0.0042000000000001593),\n",
       " '#cars': (array([ 46.2363,   6.1185]), 0.010623333333333306),\n",
       " '#ccc': (array([ 45.8333 ,   6.81454]), 0.092311333333333315),\n",
       " '#cern': (array([ 46.2322,   6.079 ]), 0.24300714285714284),\n",
       " '#cernobbio': (array([ 45.8584 ,   9.07347]), 0.0089724637681167074),\n",
       " '#cervinia': (array([ 45.9119 ,   7.64191]), 0.016664390243902431),\n",
       " '#chamonix': (array([ 45.9318,   6.9291]), 0.095004285714285749),\n",
       " '#chilhavisto': (array([ 46.4139 ,   8.97951]), 0.24058186813186835),\n",
       " '#coldplay': (array([ 47.3774 ,   8.53676]), 0.051245675675675686),\n",
       " '#coldplayzurich': (array([ 47.3774 ,   8.53676]), 0.070601032258064467),\n",
       " '#comolake': (array([ 45.9158 ,   9.21262]), 0.080307941176470554),\n",
       " '#contemporaryart': (array([ 47.5596 ,   7.58314]), 0.13720833333333329),\n",
       " '#courmayeur': (array([ 45.8314 ,   6.95104]), 0.0048012121212121115),\n",
       " '#dauphine': (array([ 46.1189 ,   6.61532]), 0.2060320588235294),\n",
       " '#davos': (array([ 46.765  ,   9.81838]), 0.16057555392516509),\n",
       " '#davos2015': (array([ 46.765  ,   9.81838]), 0.24022862745098042),\n",
       " '#dh2014': (array([ 46.5286 ,   6.56354]), 0.03651430379746845),\n",
       " '#diabetes': (array([ 46.2048 ,   6.14319]), 0.20496153846153847),\n",
       " '#dwcc14': (array([ 46.4536,   6.935 ]), 0.06719483221476498),\n",
       " '#engadin': (array([ 46.4768 ,   9.85393]), 0.19312333333333348),\n",
       " '#enqueteexclusive': (array([ 46.2088,   6.1188]), 0.22256025641025645),\n",
       " '#escalade': (array([ 46.2048 ,   6.14319]), 0.13192771428571429),\n",
       " '#etg': (array([ 45.919  ,   6.12665]), 0.17808205128205165),\n",
       " '#eurobike': (array([ 47.6684 ,   9.47092]), 0.056495643835616421),\n",
       " '#eurobike2015': (array([ 47.6684 ,   9.47092]), 0.015399102564102577),\n",
       " '#eurockeennes': (array([ 47.6737 ,   6.79669]), 0.078032051282050471),\n",
       " '#eurocks': (array([ 47.6737 ,   6.83006]), 0.040684062499999979),\n",
       " '#eurocks2014': (array([ 47.6737 ,   6.79669]), 0.042913061224488229),\n",
       " '#eurocks2015': (array([ 47.6737 ,   6.79669]), 0.042431262626262657),\n",
       " '#eurocks2016': (array([ 47.6737 ,   6.79669]), 0.039193670886074415),\n",
       " '#evian': (array([ 46.3789 ,   6.56821]), 0.049715625000000041),\n",
       " '#fimu': (array([ 47.6206 ,   6.78752]), 0.10948736842105262),\n",
       " '#finance20': (array([ 47.3774 ,   8.53676]), 0.0382739338235294),\n",
       " '#foot': (array([ 46.1483 ,   6.30463]), 0.22451363636363586),\n",
       " '#forzacimberio': (array([ 45.8314 ,   8.80651]), 0.057861965811965677),\n",
       " '#forzavarese': (array([ 45.8314 ,   8.80651]), 0.0074107142857142072),\n",
       " '#fribourg': (array([ 46.8031 ,   7.15962]), 0.010046250000000034),\n",
       " '#friedrichshafen': (array([ 47.6684 ,   9.47092]), 0.060275882352941366),\n",
       " '#gazebo': (array([ 45.8314 ,   8.80651]), 0.17873105263157893),\n",
       " '#geneva2015': (array([ 46.2048 ,   6.14319]), 0.065727482517482394),\n",
       " '#genevamotorshow': (array([ 46.2363,   6.1185]), 0.052992708039492194),\n",
       " '#geneve': (array([ 46.2048 ,   6.14319]), 0.025376533333333312),\n",
       " '#genève': (array([ 46.2048 ,   6.14319]), 0.20798132530120478),\n",
       " '#gims': (array([ 46.2363,   6.1185]), 0.056528812709030082),\n",
       " '#gims2016': (array([ 46.2363,   6.1185]), 0.027022558139534733),\n",
       " '#globalgoals': (array([ 46.2048 ,   6.14319]), 0.0073840000000000572),\n",
       " '#globalhealth': (array([ 46.2048 ,   6.14319]), 0.075668039215686322),\n",
       " '#glocal14': (array([ 45.8314 ,   8.80651]), 0.002183941605839396),\n",
       " '#glocal15': (array([ 45.8314 ,   8.80651]), 0.00016673333333333318),\n",
       " '#gpbern': (array([ 46.9543 ,   7.39491]), 0.16696896825396815),\n",
       " '#graubünden': (array([ 46.764  ,   9.69929]), 0.23328000000000018),\n",
       " '#grecia': (array([ 45.8672 ,   8.95449]), 0.1944363636363633),\n",
       " '#greenfieldfestival': (array([ 46.6721 ,   7.87004]), 0.050514285714285734),\n",
       " '#gshc': (array([ 46.2048 ,   6.14319]), 0.15920293103448274),\n",
       " '#gstaad': (array([ 46.5    ,   7.28948]), 0.017792500000000006),\n",
       " '#gurten': (array([ 46.8987 ,   7.40115]), 0.15854752688172033),\n",
       " '#gurtenfestival': (array([ 46.8987 ,   7.40115]), 0.095930565217391156),\n",
       " '#hafenkran': (array([ 47.3774 ,   8.53676]), 0.094592857142857145),\n",
       " '#hallenstadion': (array([ 47.3774 ,   8.53676]), 0.061436842105263068),\n",
       " '#hrc29': (array([ 46.2048 ,   6.14319]), 0.046658260869565218),\n",
       " '#hrc31': (array([ 46.2048 ,   6.14319]), 0.03467194444444445),\n",
       " '#hublot': (array([ 47.5596 ,   7.58314]), 0.042396000000000239),\n",
       " '#humanrights': (array([ 46.2048 ,   6.14319]), 0.13389023529411767),\n",
       " '#inlombardia': (array([ 45.9627 ,   9.24589]), 0.089043333333333169),\n",
       " '#interlaken': (array([ 46.6844 ,   7.85768]), 0.073802413793103483),\n",
       " '#ironman': (array([ 47.3774 ,   8.53676]), 0.0080153846153850645),\n",
       " '#ischgl': (array([ 46.9864,  10.2649]), 0.0095692307692307396),\n",
       " '#jauch': (array([ 47.3774 ,   8.53676]), 0.011194999999999991),\n",
       " '#jayz': (array([ 47.3774 ,   8.53676]), 0.0),\n",
       " '#jeudiconfession': (array([ 46.2048 ,   6.14319]), 0.23370468918918916),\n",
       " '#jewellery': (array([ 47.5596 ,   7.58314]), 0.039651379310344799),\n",
       " '#jewelry': (array([ 47.5596 ,   7.58314]), 0.0),\n",
       " '#konstanz': (array([ 47.7089 ,   9.15218]), 0.0553040909090909),\n",
       " '#lagodicomo': (array([ 45.91925 ,   9.239785]), 0.20968749999999994),\n",
       " '#lagomaggiore': (array([ 45.9109 ,   8.52278]), 0.055927948717948421),\n",
       " '#lakezurich': (array([ 47.3774 ,   8.53676]), 0.038175000000000146),\n",
       " '#lamborghini': (array([ 46.2363,   6.1185]), 0.13218137931034477),\n",
       " '#lauberhorn': (array([ 46.5532,   7.9064]), 0.21717250000000016),\n",
       " '#lavaux': (array([ 46.4917 ,   6.78764]), 0.033194545454545317),\n",
       " '#lecco': (array([ 45.8579 ,   9.42603]), 0.057184615384614931),\n",
       " '#lego': (array([ 45.8579 ,   9.42603]), 0.037552380952381066),\n",
       " '#lenzerheide': (array([ 46.7223 ,   9.54534]), 0.15974705128205122),\n",
       " '#lesanges4': (array([ 46.1581 ,   6.08775]), 0.24898000000000026),\n",
       " '#lesgets': (array([ 46.1189 ,   6.61532]), 0.019608076923076919),\n",
       " '#letour': (array([ 45.9981 ,   6.65743]), 0.16752758620689728),\n",
       " '#lift13': (array([ 46.2048 ,   6.14319]), 0.1059475),\n",
       " '#lift14': (array([ 46.2048 ,   6.14319]), 0.032893724340175935),\n",
       " '#lift16': (array([ 46.2048 ,   6.14319]), 0.056165324675324611),\n",
       " '#locarno': (array([ 46.1728 ,   8.83527]), 0.12488714285714282),\n",
       " '#locarno68': (array([ 46.1728 ,   8.83527]), 0.066629268292683091),\n",
       " '#lombardia': (array([ 45.8579 ,   9.42603]), 0.16435896551724161),\n",
       " '#lovere': (array([ 45.8243,  10.0734]), 0.00087894736842106106),\n",
       " '#lugano': (array([ 46.0027 ,   8.96044]), 0.054093548387096881),\n",
       " '#luzern': (array([ 47.0408 ,   8.31721]), 0.04435647058823524),\n",
       " '#madonna': (array([ 47.3774 ,   8.53676]), 0.10719764705882351),\n",
       " '#manifesta11': (array([ 47.3774 ,   8.53676]), 0.0),\n",
       " '#manifpourtous': (array([ 46.2048 ,   6.14319]), 0.24213409090909044),\n",
       " '#mario': (array([ 45.8314  ,   9.019155]), 0.19080399999999997),\n",
       " '#martini': (array([ 45.8584 ,   9.07347]), 0.0048500000000005388),\n",
       " '#maserati': (array([ 46.2363,   6.1185]), 0.0044791666666665897),\n",
       " '#matterhorn': (array([ 45.9904,   7.7418]), 0.036858536585365739),\n",
       " '#mclaren': (array([ 46.2363  ,   6.125765]), 0.10455499999999983),\n",
       " '#megeve': (array([ 45.8    ,   6.56618]), 0.033789729729729649),\n",
       " '#mercedes': (array([ 46.2363,   6.1185]), 0.034563469387754966),\n",
       " '#migration': (array([ 46.2048 ,   6.14319]), 0.074799062499999985),\n",
       " '#mileycyrus': (array([ 47.3774 ,   8.53676]), 0.18033999999999986),\n",
       " '#mistero': (array([ 46.414  ,   9.03956]), 0.21708652482269536),\n",
       " '#mjf50': (array([ 46.4536,   6.935 ]), 0.21478400000000003),\n",
       " '#montblanc': (array([ 45.8333 ,   6.81454]), 0.13093749999999993),\n",
       " '#monterosa': (array([ 45.8624 ,   7.85368]), 0.068354210526316017),\n",
       " '#montreux': (array([ 46.4536,   6.935 ]), 0.16148315068493158),\n",
       " '#montreuxriviera': (array([ 46.4702 ,   6.82016]), 0.0),\n",
       " '#mooc': (array([ 46.5286 ,   6.56354]), 0.0),\n",
       " '#morzine': (array([ 46.1381,   6.6796]), 0.058437931034483651),\n",
       " '#motorshow': (array([ 46.2363,   6.1185]), 0.12403290322580636),\n",
       " '#mulhouse': (array([ 47.7525 ,   7.32554]), 0.041965945945945847),\n",
       " '#ncds': (array([ 46.2048 ,   6.14319]), 0.019812808988764068),\n",
       " '#nestle': (array([ 46.5287 ,   6.65208]), 0.017039333333333375),\n",
       " '#nevergiveup': (array([ 47.48   ,   6.74196]), 0.14133526315789463),\n",
       " '#nissan': (array([ 46.2363,   6.1185]), 0.0030000000000001137),\n",
       " '#nyon': (array([ 46.3812 ,   6.23943]), 0.060792857142856808),\n",
       " '#oasg': (array([ 47.424  ,   9.36293]), 0.1773700746268658),\n",
       " '#olimpiadi': (array([ 45.8599 ,   9.08382]), 0.23079079999999996),\n",
       " '#olten': (array([ 47.3397 ,   7.90213]), 0.19000849999999997),\n",
       " '#opel': (array([ 46.2363,   6.1185]), 0.006055384615384591),\n",
       " '#ottoemezzo': (array([ 45.9004 ,   9.39232]), 0.14618772727272733),\n",
       " '#outdoor': (array([ 47.6684 ,   9.47092]), 0.17841636363636368),\n",
       " '#paleo': (array([ 46.4205 ,   6.20298]), 0.1562002255639095),\n",
       " '#paleo2014': (array([ 46.4205 ,   6.19475]), 0.11004644859813069),\n",
       " '#paleo2015': (array([ 46.3812 ,   6.23943]), 0.23644454545454527),\n",
       " '#paleo2016': (array([ 46.4205 ,   6.19475]), 0.21311076271186441),\n",
       " '#paleofestival': (array([ 46.4205 ,   6.19475]), 0.13534899999999994),\n",
       " '#papafrancesco': (array([ 45.95705,   8.97956]), 0.24256000000000028),\n",
       " '#payerne': (array([ 46.8213 ,   6.93576]), 0.11767476190476189),\n",
       " '#pokert': (array([ 47.3774 ,   8.53676]), 0.054943187250995909),\n",
       " '#porsche': (array([ 46.2363,   6.1185]), 0.10979514285714276),\n",
       " '#post2015': (array([ 46.2048 ,   6.14319]), 0.0),\n",
       " '#pride': (array([ 47.3774 ,   8.53676]), 0.14418909090909082),\n",
       " '#queen': (array([ 47.3774 ,   8.53676]), 0.18482699999999985),\n",
       " '#r8': (array([ 46.2048 ,   6.14319]), 0.011812500000000448),\n",
       " '#refugees': (array([ 46.2048 ,   6.14319]), 0.0),\n",
       " '#renault': (array([ 46.2363,   6.1185]), 0.06498461538461478),\n",
       " '#rolex': (array([ 47.5596 ,   7.58314]), 0.20262142857142859),\n",
       " '#rollingstones': (array([ 47.3774 ,   8.53676]), 0.078142105263157721),\n",
       " '#rotblaulive': (array([ 47.5596 ,   7.58314]), 0.11828903030303031),\n",
       " '#sallanches': (array([ 45.8777 ,   6.51584]), 0.05012850000000002),\n",
       " '#sangottardo': (array([ 46.3723 ,   8.94664]), 0.090478571428572449),\n",
       " '#sdgs': (array([ 46.2048 ,   6.14319]), 0.22013945945945948),\n",
       " '#seat': (array([ 46.2363,   6.1185]), 0.21128321428571425),\n",
       " '#sevilla': (array([ 47.5596 ,   7.58314]), 0.10749022727272721),\n",
       " '#shapersacm': (array([ 46.2219 ,   6.18194]), 0.020205000000000022),\n",
       " '#siag': (array([ 46.2363,   6.1185]), 0.056884050632911284),\n",
       " '#sihh': (array([ 46.2363,   6.1185]), 0.042949117647058756),\n",
       " '#sihh2016': (array([ 46.2363,   6.1185]), 0.055301409691629902),\n",
       " '#sion': (array([ 46.2302 ,   7.36542]), 0.028731818181818237),\n",
       " '#skymondiali': (array([ 46.0027 ,   8.96044]), 0.22627272727272718),\n",
       " '#smgzh': (array([ 47.3774 ,   8.53676]), 0.10821214057507991),\n",
       " '#srilanka': (array([ 46.2048 ,   6.14319]), 0.04124692307692307),\n",
       " '#stgallen': (array([ 47.424  ,   9.36293]), 0.14057285714285714),\n",
       " '#streetfoodfestival': (array([ 47.3774 ,   8.53676]), 0.031532820512820602),\n",
       " '#streetparade': (array([ 47.3774 ,   8.53676]), 0.10760775894538606),\n",
       " '#stresa': (array([ 45.8835 ,   8.51767]), 0.0097194444444445895),\n",
       " '#stromausfall': (array([ 47.3774 ,   8.53676]), 0.015307142857142964),\n",
       " '#supercar': (array([ 46.2363,   6.1185]), 0.0035000000000001328),\n",
       " '#swisswine': (array([ 46.4536,   6.935 ]), 0.22470409090909085),\n",
       " '#tds': (array([ 45.8333 ,   6.81454]), 0.11312272727272733),\n",
       " '#teametg': (array([ 45.9578 ,   6.75079]), 0.18016375000000023),\n",
       " '#tedx': (array([ 46.2322,   6.079 ]), 0.018940399999999968),\n",
       " '#tedxbern': (array([ 46.8987 ,   7.40115]), 0.060760111731843529),\n",
       " '#tedxnations': (array([ 46.2048 ,   6.14319]), 0.021404270072992719),\n",
       " '#tedxzurich': (array([ 47.3774 ,   8.53676]), 0.089725714285714672),\n",
       " '#thun': (array([ 46.7404 ,   7.63814]), 0.16416124999999993),\n",
       " '#tourdefrance': (array([ 45.86915,   6.65743]), 0.22493076923077013),\n",
       " '#toyota': (array([ 46.2363,   6.1185]), 0.0056250000000002132),\n",
       " '#tram': (array([ 47.201  ,   5.94082]), 0.08466999999999994),\n",
       " '#tweetupzh': (array([ 47.3774 ,   8.53676]), 0.089945408805031477),\n",
       " '#uelfinal': (array([ 47.5596 ,   7.58314]), 0.12401317073170737),\n",
       " '#uhc': (array([ 46.2048 ,   6.14319]), 0.0099494845360818835),\n",
       " '#un': (array([ 46.2048 ,   6.14319]), 0.21869764705882355),\n",
       " '#unhcr': (array([ 46.2048 ,   6.14319]), 0.0),\n",
       " '#unhcrngos': (array([ 46.2048 ,   6.14319]), 0.10212499231950839),\n",
       " '#unlimited': (array([ 47.5596 ,   7.58314]), 0.0032491764705882154),\n",
       " '#utmb': (array([ 45.8333 ,   6.81454]), 0.11284150326797369),\n",
       " '#valtellina': (array([ 46.1809  ,   9.937945]), 0.24808704545454566),\n",
       " '#varese': (array([ 45.8314 ,   8.80651]), 0.065881538461538339),\n",
       " '#vesoul': (array([ 47.6128 ,   6.13043]), 0.097950000000000079),\n",
       " '#vevey': (array([ 46.4384 ,   6.84721]), 0.12307600000000023),\n",
       " '#villadeste': (array([ 45.8584 ,   9.07347]), 0.0057552941176473547),\n",
       " '#vin': (array([ 46.5287 ,   6.65208]), 0.029506249999999845),\n",
       " '#visitgeneva': (array([ 46.2048 ,   6.14319]), 0.0038750000000000286),\n",
       " '#visitzurich': (array([ 47.3774 ,   8.53676]), 0.0),\n",
       " '#vitra': (array([ 47.6055 ,   7.65726]), 0.025633207547170057),\n",
       " '#wef14': (array([ 46.765  ,   9.81838]), 0.13223074148296604),\n",
       " '#wef2015': (array([ 46.765  ,   9.81838]), 0.058116999999999974),\n",
       " '#wef2016': (array([ 46.765  ,   9.81838]), 0.20649516129032258),\n",
       " '#wha67': (array([ 46.2048 ,   6.14319]), 0.014820920060331836),\n",
       " '#wha68': (array([ 46.2048 ,   6.14319]), 0.037662725903614462),\n",
       " '#wha69': (array([ 46.2048 ,   6.14319]), 0.027841891891891905),\n",
       " '#winelover': (array([ 46.4536,   6.935 ]), 0.11367824999999995),\n",
       " '#winterthur': (array([ 47.4987 ,   8.73303]), 0.10719542857142854),\n",
       " '#wordpress': (array([ 47.3774 ,   8.53676]), 0.0),\n",
       " '#wsis': (array([ 46.2048 ,   6.14319]), 0.022572189349112433),\n",
       " '#zermatt': (array([ 45.9904,   7.7418]), 0.037874102564102577),\n",
       " '#zsc': (array([ 47.3774 ,   8.53676]), 0.17936588235294154),\n",
       " '#zürifäscht': (array([ 47.3774 ,   8.53676]), 0.014638297872340628)}"
      ]
     },
     "execution_count": 6,
     "metadata": {},
     "output_type": "execute_result"
    }
   ],
   "source": [
    "events_locations"
   ]
  },
  {
   "cell_type": "code",
   "execution_count": null,
   "metadata": {},
   "outputs": [],
   "source": [
    "event_dic['#papafrancesco']"
   ]
  },
  {
   "cell_type": "code",
   "execution_count": null,
   "metadata": {},
   "outputs": [],
   "source": [
    "hashtag = '#papafrancesco'\n",
    "print(event_dic[hashtag])\n",
    "dates = [datetime.strptime(d, \"%Y-%m-%d\").date() for d in event_dic[hashtag]]\n",
    "display_event_map(hashtag, dates, df_tag, group_hashtags)"
   ]
  }
 ],
 "metadata": {
  "kernelspec": {
   "display_name": "Python [default]",
   "language": "python",
   "name": "python3"
  },
  "language_info": {
   "codemirror_mode": {
    "name": "ipython",
    "version": 3
   },
   "file_extension": ".py",
   "mimetype": "text/x-python",
   "name": "python",
   "nbconvert_exporter": "python",
   "pygments_lexer": "ipython3",
   "version": "3.5.4"
  }
 },
 "nbformat": 4,
 "nbformat_minor": 2
}
